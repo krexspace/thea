{
 "cells": [
  {
   "cell_type": "code",
   "execution_count": 1,
   "metadata": {},
   "outputs": [
    {
     "name": "stdout",
     "output_type": "stream",
     "text": [
      "Connecting to Neo4j at bolt://192.168.1.199\n",
      "Connected to Neo4j\n",
      "Connecting to MongoDB at 192.168.1.199:27017\n",
      "Connected to MongoDB\n"
     ]
    }
   ],
   "source": [
    "import sys\n",
    "sys.path.append('../..')\n",
    "import os\n",
    "os.environ['thea_server'] = '192.168.1.199'\n",
    "import thea.core.commands as cm"
   ]
  },
  {
   "cell_type": "code",
   "execution_count": 2,
   "metadata": {},
   "outputs": [
    {
     "name": "stdout",
     "output_type": "stream",
     "text": [
      "In cmd_create_node: {'title': 'Wonderful', 'desc': 'World', 'kwds': 'ideas,notes,dogs,cats'}\n"
     ]
    }
   ],
   "source": [
    "mresp = cm.cmd_create_node({'title':'Wonderful',\"desc\":\"World\",\"kwds\":'ideas,notes,dogs,cats'})"
   ]
  },
  {
   "cell_type": "code",
   "execution_count": 3,
   "metadata": {},
   "outputs": [
    {
     "data": {
      "text/plain": [
       "{'val': '5b8ae3df9dc1b26254c9e05d'}"
      ]
     },
     "execution_count": 3,
     "metadata": {},
     "output_type": "execute_result"
    }
   ],
   "source": [
    "mresp"
   ]
  },
  {
   "cell_type": "code",
   "execution_count": 4,
   "metadata": {},
   "outputs": [
    {
     "name": "stdout",
     "output_type": "stream",
     "text": [
      "In cmd_create_node: {'title': 'Wonderful', 'desc': 'World', 'kwds': 'ideas,notes,dogs,cats'}\n"
     ]
    }
   ],
   "source": [
    "mresp = cm.create_node(title='Wonderful', desc='World', kwds='ideas,notes,dogs,cats')"
   ]
  },
  {
   "cell_type": "code",
   "execution_count": 5,
   "metadata": {},
   "outputs": [
    {
     "data": {
      "text/plain": [
       "{'val': '5b8ae3df9dc1b26254c9e05e'}"
      ]
     },
     "execution_count": 5,
     "metadata": {},
     "output_type": "execute_result"
    }
   ],
   "source": [
    "mresp"
   ]
  },
  {
   "cell_type": "code",
   "execution_count": 6,
   "metadata": {},
   "outputs": [
    {
     "name": "stdout",
     "output_type": "stream",
     "text": [
      "In cmd_update_node: {'nid': '5b8ae3df9dc1b26254c9e05e', 'title': 'Amazing', 'desc': 'World'}\n"
     ]
    }
   ],
   "source": [
    "mresp = cm.cmd_update_node({'nid':mresp['val'],'title':'Amazing',\"desc\":\"World\"})"
   ]
  },
  {
   "cell_type": "code",
   "execution_count": null,
   "metadata": {},
   "outputs": [],
   "source": []
  },
  {
   "cell_type": "code",
   "execution_count": 7,
   "metadata": {},
   "outputs": [
    {
     "name": "stdout",
     "output_type": "stream",
     "text": [
      "In cmd_fetch_all: None\n"
     ]
    },
    {
     "data": {
      "text/plain": [
       "{'list': [{'title': 'Red stones',\n",
       "   'type': 'th',\n",
       "   'zone': 'std',\n",
       "   'nid': '5b8ae2649dc1b269f80aba25'},\n",
       "  {'title': 'Red stones realm',\n",
       "   'type': 'rlm',\n",
       "   'zone': 'std',\n",
       "   'nid': '5b8ae2649dc1b269f80aba26'},\n",
       "  {'title': 'Yellow stones cluster',\n",
       "   'type': 'cl',\n",
       "   'zone': 'std',\n",
       "   'nid': '5b8ae2649dc1b269f80aba27'},\n",
       "  {'title': 'White stones note',\n",
       "   'type': 'note',\n",
       "   'zone': 'std',\n",
       "   'nid': '5b8ae2649dc1b269f80aba28'},\n",
       "  {'title': 'Green gems idea',\n",
       "   'type': 'idea',\n",
       "   'zone': 'std',\n",
       "   'nid': '5b8ae2649dc1b269f80aba29'},\n",
       "  {'src': 'http://abc.com/frogs.jpg',\n",
       "   'type': 'img',\n",
       "   'zone': 'std',\n",
       "   'kwds': ['frogs', 'animal'],\n",
       "   'markers': ['image', 'jpg'],\n",
       "   'nid': '5b8ae2649dc1b269f80aba2a'},\n",
       "  {'src': 'http://abc.com/frogs.jpg',\n",
       "   'dom': 'domx',\n",
       "   'internal': True,\n",
       "   'type': 'img',\n",
       "   'zone': 'std',\n",
       "   'nid': '5b8ae2649dc1b269f80aba2b'},\n",
       "  {'src': 'http://abc.com/frogs.jpg',\n",
       "   'type': 'vid',\n",
       "   'zone': 'std',\n",
       "   'nid': '5b8ae2649dc1b269f80aba2c'},\n",
       "  {'src': 'http://abc.com/frogs.jpg',\n",
       "   'dom': 'domx',\n",
       "   'internal': True,\n",
       "   'type': 'vid',\n",
       "   'zone': 'std',\n",
       "   'nid': '5b8ae2649dc1b269f80aba2d'},\n",
       "  {'src': 'http://abc.com/frogs.jpg',\n",
       "   'type': 'aud',\n",
       "   'zone': 'std',\n",
       "   'nid': '5b8ae2649dc1b269f80aba2e'},\n",
       "  {'src': 'http://abc.com/frogs.jpg',\n",
       "   'dom': 'domx',\n",
       "   'internal': True,\n",
       "   'type': 'aud',\n",
       "   'zone': 'std',\n",
       "   'nid': '5b8ae2659dc1b269f80aba2f'},\n",
       "  {'src': 'http://abc.com/frogs.jpg',\n",
       "   'type': 'file',\n",
       "   'zone': 'std',\n",
       "   'nid': '5b8ae2659dc1b269f80aba30'},\n",
       "  {'src': 'http://abc.com/frogs.jpg',\n",
       "   'dom': 'domx',\n",
       "   'internal': True,\n",
       "   'type': 'file',\n",
       "   'zone': 'std',\n",
       "   'nid': '5b8ae2659dc1b269f80aba31'},\n",
       "  {'url': 'https://abc.com/frogs.yt',\n",
       "   'type': 'yt',\n",
       "   'zone': 'std',\n",
       "   'nid': '5b8ae2659dc1b269f80aba32'},\n",
       "  {'title': 'Happiness and Satisfaction',\n",
       "   'type': 'th',\n",
       "   'zone': 'std',\n",
       "   'nid': '5b8ae2659dc1b269f80aba33'},\n",
       "  {'url': 'https://abc.com/news',\n",
       "   'title': 'https://abc.com/news',\n",
       "   'type': 'lnk',\n",
       "   'zone': 'std',\n",
       "   'nid': '5b8ae2659dc1b269f80aba34'},\n",
       "  {'url': 'https://abc.com/news',\n",
       "   'title': 'News',\n",
       "   'type': 'lnk',\n",
       "   'zone': 'std',\n",
       "   'nid': '5b8ae2659dc1b269f80aba35'},\n",
       "  {'code': 'y = n.dat.nid',\n",
       "   'type': 'logic',\n",
       "   'zone': 'std',\n",
       "   'nid': '5b8ae2659dc1b269f80aba36'},\n",
       "  {'title': 'Great',\n",
       "   'body': 'These are great days',\n",
       "   'type': 'th',\n",
       "   'zone': 'std',\n",
       "   'rating': 23,\n",
       "   'nid': '5b8ae2de9dc1b26eb03578f0'},\n",
       "  {'title': 'Great',\n",
       "   'body': 'These are great days',\n",
       "   'type': 'th',\n",
       "   'zone': 'std',\n",
       "   'rating': 23,\n",
       "   'nid': '5b8ae2e89dc1b26c80ac4413'},\n",
       "  {'title': 'Great',\n",
       "   'body': 'These are great days',\n",
       "   'type': 'th',\n",
       "   'zone': 'std',\n",
       "   'rating': 23,\n",
       "   'kwds': ['cat', 'dog', 'stone'],\n",
       "   'nid': '5b8ae2f59dc1b2451c7b219f'},\n",
       "  {'title': 'Great',\n",
       "   'body': 'These are great days',\n",
       "   'type': 'th',\n",
       "   'zone': 'std',\n",
       "   'rating': 23,\n",
       "   'kwds': ['cat', 'dog', 'stone'],\n",
       "   'markers': ['REALM', 'GROUP', 'IDEA'],\n",
       "   'nid': '5b8ae3029dc1b274b07f934d'},\n",
       "  {'title': 'Great',\n",
       "   'body': 'These are great days',\n",
       "   'type': 'th',\n",
       "   'zone': 'std',\n",
       "   'rating': 23,\n",
       "   'kwds': ['cat', 'dog', 'stone'],\n",
       "   'markers': ['REALM', 'GROUP', 'IDEA'],\n",
       "   'nid': '5b8ae3109dc1b2670c003c39'},\n",
       "  {'type': 'img',\n",
       "   'title': 'Mushrooms beautiful',\n",
       "   'src': 'http://s3.amazonaws.com/digitaltrends-uploads-prod/2016/04/mushroom.jpg',\n",
       "   'zone': 'std',\n",
       "   'nid': '5b8ae3739dc1b26cf44bc608'},\n",
       "  {'type': 'note',\n",
       "   'title': 'Great moves',\n",
       "   'body': 'This is one great move which will open up a whole new world',\n",
       "   'zone': 'std',\n",
       "   'nid': '5b8ae3739dc1b26cf44bc609'},\n",
       "  {'type': 'lnk',\n",
       "   'title': 'Great moves',\n",
       "   'url': 'http://www.sciencedaily.com',\n",
       "   'zone': 'std',\n",
       "   'nid': '5b8ae3739dc1b26cf44bc60a'},\n",
       "  {'title': 'Purple room',\n",
       "   'type': 'rlm',\n",
       "   'body': 'This is an one of a kind realm',\n",
       "   'zone': 'std',\n",
       "   'nid': '5b8ae3739dc1b26cf44bc60b'},\n",
       "  {'title': 'Green room',\n",
       "   'type': 'rlm',\n",
       "   'zone': 'std',\n",
       "   'nid': '5b8ae3739dc1b26cf44bc60c'},\n",
       "  {'title': 'Rivers',\n",
       "   'type': 'th',\n",
       "   'zone': 'std',\n",
       "   'nid': '5b8ae3739dc1b26cf44bc60d'},\n",
       "  {'title': 'Wonderful',\n",
       "   'desc': 'World',\n",
       "   'type': 'th',\n",
       "   'zone': 'std',\n",
       "   'kwds': ['ideas', 'notes', 'dogs', 'cats'],\n",
       "   'nid': '5b8ae3df9dc1b26254c9e05d'},\n",
       "  {'title': 'Amazing',\n",
       "   'desc': 'World',\n",
       "   'type': 'th',\n",
       "   'zone': 'std',\n",
       "   'kwds': ['ideas', 'notes', 'dogs', 'cats'],\n",
       "   'nid': '5b8ae3df9dc1b26254c9e05e'}]}"
      ]
     },
     "execution_count": 7,
     "metadata": {},
     "output_type": "execute_result"
    }
   ],
   "source": [
    "cm.cmd_find_all()"
   ]
  },
  {
   "cell_type": "code",
   "execution_count": 8,
   "metadata": {},
   "outputs": [
    {
     "name": "stdout",
     "output_type": "stream",
     "text": [
      "In cmd_delete_all: None\n"
     ]
    },
    {
     "data": {
      "text/plain": [
       "{'val': 'SUCCESS'}"
      ]
     },
     "execution_count": 8,
     "metadata": {},
     "output_type": "execute_result"
    }
   ],
   "source": [
    "cm.cmd_delete_all(None)"
   ]
  },
  {
   "cell_type": "code",
   "execution_count": 9,
   "metadata": {},
   "outputs": [
    {
     "name": "stdout",
     "output_type": "stream",
     "text": [
      "In cmd_find_by: {'kwds': 'crazy,cats'}\n",
      "{'kwds': {'$in': ['crazy', 'cats']}}\n"
     ]
    },
    {
     "data": {
      "text/plain": [
       "{'list': []}"
      ]
     },
     "execution_count": 9,
     "metadata": {},
     "output_type": "execute_result"
    }
   ],
   "source": [
    "cm.cmd_find_by({'kwds':'crazy,cats'})"
   ]
  },
  {
   "cell_type": "code",
   "execution_count": 10,
   "metadata": {},
   "outputs": [
    {
     "name": "stdout",
     "output_type": "stream",
     "text": [
      "In cmd_delete_one: {'nid': '5af6a0d81807981fd4bf0eaf'}\n"
     ]
    },
    {
     "data": {
      "text/plain": [
       "{'val': '0'}"
      ]
     },
     "execution_count": 10,
     "metadata": {},
     "output_type": "execute_result"
    }
   ],
   "source": [
    "cm.cmd_delete_node({'nid':'5af6a0d81807981fd4bf0eaf'})"
   ]
  },
  {
   "cell_type": "markdown",
   "metadata": {},
   "source": [
    "cm.cmd_create_conn({'src':'5af6a4fc1807985088998435','dest':'5af6a4ff1807985088998436'})"
   ]
  },
  {
   "cell_type": "code",
   "execution_count": 11,
   "metadata": {},
   "outputs": [
    {
     "data": {
      "text/plain": [
       "{'err': True, 'msg': 'Unexpected result None.'}"
      ]
     },
     "execution_count": 11,
     "metadata": {},
     "output_type": "execute_result"
    }
   ],
   "source": [
    "cm.cmd_create_conn({'src':'5af6a4fc1807985088998435','dest':'5af6a4ff1807985088998436','st':23,'type':'like'})"
   ]
  },
  {
   "cell_type": "code",
   "execution_count": 12,
   "metadata": {},
   "outputs": [
    {
     "data": {
      "text/plain": [
       "{'val': []}"
      ]
     },
     "execution_count": 12,
     "metadata": {},
     "output_type": "execute_result"
    }
   ],
   "source": [
    "cm.cmd_find_conns({'src':'5af6a4fc1807985088998435','dest':'5af6a4ff1807985088998436'})"
   ]
  },
  {
   "cell_type": "code",
   "execution_count": 13,
   "metadata": {},
   "outputs": [
    {
     "data": {
      "text/plain": [
       "{'val': None}"
      ]
     },
     "execution_count": 13,
     "metadata": {},
     "output_type": "execute_result"
    }
   ],
   "source": [
    "cm.cmd_delete_conn({'cid':40})"
   ]
  },
  {
   "cell_type": "code",
   "execution_count": 14,
   "metadata": {},
   "outputs": [
    {
     "data": {
      "text/plain": [
       "{'val': None}"
      ]
     },
     "execution_count": 14,
     "metadata": {},
     "output_type": "execute_result"
    }
   ],
   "source": [
    "cm.cmd_delete_conn({'src':'5af6a4fc1807985088998435','dest':'5af6a4ff1807985088998436','type':'like'})"
   ]
  },
  {
   "cell_type": "code",
   "execution_count": null,
   "metadata": {},
   "outputs": [],
   "source": []
  }
 ],
 "metadata": {
  "kernelspec": {
   "display_name": "Python 3",
   "language": "python",
   "name": "python3"
  },
  "language_info": {
   "codemirror_mode": {
    "name": "ipython",
    "version": 3
   },
   "file_extension": ".py",
   "mimetype": "text/x-python",
   "name": "python",
   "nbconvert_exporter": "python",
   "pygments_lexer": "ipython3",
   "version": "3.6.5"
  }
 },
 "nbformat": 4,
 "nbformat_minor": 2
}
