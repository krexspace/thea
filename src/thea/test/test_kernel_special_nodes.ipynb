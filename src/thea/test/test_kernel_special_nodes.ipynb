{
 "cells": [
  {
   "cell_type": "code",
   "execution_count": 1,
   "metadata": {},
   "outputs": [],
   "source": [
    "import sys\n",
    "sys.path.append('../..')\n",
    "import os\n",
    "os.environ['thea_server'] = '192.168.1.199'"
   ]
  },
  {
   "cell_type": "code",
   "execution_count": null,
   "metadata": {},
   "outputs": [],
   "source": []
  },
  {
   "cell_type": "code",
   "execution_count": 2,
   "metadata": {},
   "outputs": [
    {
     "name": "stdout",
     "output_type": "stream",
     "text": [
      "Connecting to Neo4j at bolt://192.168.1.199\n",
      "Connected to Neo4j\n",
      "Connecting to MongoDB at 192.168.1.199:27017\n",
      "Connected to MongoDB\n"
     ]
    }
   ],
   "source": [
    "import thea.core.kernel as k"
   ]
  },
  {
   "cell_type": "code",
   "execution_count": 3,
   "metadata": {},
   "outputs": [
    {
     "name": "stdout",
     "output_type": "stream",
     "text": [
      "Graph object initialized\n"
     ]
    }
   ],
   "source": [
    "g = k.Graph()"
   ]
  },
  {
   "cell_type": "code",
   "execution_count": 4,
   "metadata": {},
   "outputs": [
    {
     "name": "stdout",
     "output_type": "stream",
     "text": [
      "delete_all\n",
      "In cmd_delete_all: None\n"
     ]
    }
   ],
   "source": [
    "g.delete_all()"
   ]
  },
  {
   "cell_type": "code",
   "execution_count": 5,
   "metadata": {},
   "outputs": [],
   "source": [
    "nl = []"
   ]
  },
  {
   "cell_type": "code",
   "execution_count": null,
   "metadata": {},
   "outputs": [],
   "source": []
  },
  {
   "cell_type": "code",
   "execution_count": 6,
   "metadata": {},
   "outputs": [
    {
     "name": "stdout",
     "output_type": "stream",
     "text": [
      "In cmd_create_node: {'title': 'Red stones'}\n",
      "In cmd_create_node: {'title': 'Red stones realm', 'type': 'rlm'}\n",
      "In cmd_create_node: {'title': 'Yellow stones cluster', 'type': 'cl'}\n",
      "In cmd_create_node: {'title': 'White stones note', 'type': 'note'}\n",
      "In cmd_create_node: {'title': 'Green gems idea', 'type': 'idea'}\n",
      "In cmd_create_node: {'src': 'http://abc.com/frogs.jpg', 'type': 'img', 'kwds': 'frogs,animal', 'markers': 'image,jpg'}\n",
      "In cmd_create_node: {'src': 'http://abc.com/frogs.jpg', 'dom': 'domx', 'internal': True, 'type': 'img'}\n",
      "In cmd_create_node: {'src': 'http://abc.com/frogs.jpg', 'type': 'vid'}\n",
      "In cmd_create_node: {'src': 'http://abc.com/frogs.jpg', 'dom': 'domx', 'internal': True, 'type': 'vid'}\n",
      "In cmd_create_node: {'src': 'http://abc.com/frogs.jpg', 'type': 'aud'}\n",
      "In cmd_create_node: {'src': 'http://abc.com/frogs.jpg', 'dom': 'domx', 'internal': True, 'type': 'aud'}\n",
      "In cmd_create_node: {'src': 'http://abc.com/frogs.jpg', 'type': 'file'}\n",
      "In cmd_create_node: {'src': 'http://abc.com/frogs.jpg', 'dom': 'domx', 'internal': True, 'type': 'file'}\n",
      "In cmd_create_node: {'url': 'https://abc.com/frogs.yt', 'type': 'yt'}\n",
      "In cmd_create_node: {'title': 'Happiness and Satisfaction', 'type': 'th'}\n",
      "In cmd_create_node: {'url': 'https://abc.com/news', 'title': 'https://abc.com/news', 'type': 'lnk'}\n",
      "In cmd_create_node: {'url': 'https://abc.com/news', 'title': 'News', 'type': 'lnk'}\n",
      "In cmd_create_node: {'code': 'y = n.dat.nid', 'type': 'logic'}\n"
     ]
    }
   ],
   "source": [
    "nl.append(g.node(title='Red stones'))\n",
    "nl.append(g.realm(title='Red stones realm'))\n",
    "nl.append(g.cluster('Yellow stones cluster'))\n",
    "nl.append(g.note('White stones note'))\n",
    "nl.append(g.idea('Green gems idea'))\n",
    "nl.append(g.image('http://abc.com/frogs.jpg',kwds='frogs,animal', markers='image,jpg'))\n",
    "nl.append(g.limage('http://abc.com/frogs.jpg'))\n",
    "nl.append(g.video('http://abc.com/frogs.jpg'))\n",
    "nl.append(g.lvideo('http://abc.com/frogs.jpg'))\n",
    "nl.append(g.audio('http://abc.com/frogs.jpg'))\n",
    "nl.append(g.laudio('http://abc.com/frogs.jpg'))\n",
    "nl.append(g.rfile('http://abc.com/frogs.jpg'))\n",
    "nl.append(g.lfile('http://abc.com/frogs.jpg'))\n",
    "nl.append(g.youtube('https://abc.com/frogs.yt'))\n",
    "nl.append(g.thought('Happiness and Satisfaction'))\n",
    "nl.append(g.link('https://abc.com/news'))\n",
    "nl.append(g.link('https://abc.com/news','News'))\n",
    "nl.append(g.logic('y = n.dat.nid'))"
   ]
  },
  {
   "cell_type": "code",
   "execution_count": 7,
   "metadata": {},
   "outputs": [
    {
     "data": {
      "text/plain": [
       "[node-> {'title': 'Red stones', 'nid': '5b8ad5739dc1b25690d8b1e2'},\n",
       " node-> {'title': 'Red stones realm', 'type': 'rlm', 'nid': '5b8ad5739dc1b25690d8b1e3'},\n",
       " node-> {'title': 'Yellow stones cluster', 'type': 'cl', 'nid': '5b8ad5739dc1b25690d8b1e4'},\n",
       " node-> {'title': 'White stones note', 'type': 'note', 'nid': '5b8ad5739dc1b25690d8b1e5'},\n",
       " node-> {'title': 'Green gems idea', 'type': 'idea', 'nid': '5b8ad5739dc1b25690d8b1e6'},\n",
       " node-> {'src': 'http://abc.com/frogs.jpg', 'type': 'img', 'kwds': 'frogs,animal', 'markers': 'image,jpg', 'nid': '5b8ad5739dc1b25690d8b1e7'},\n",
       " node-> {'src': 'http://abc.com/frogs.jpg', 'dom': 'domx', 'internal': True, 'type': 'img', 'nid': '5b8ad5739dc1b25690d8b1e8'},\n",
       " node-> {'src': 'http://abc.com/frogs.jpg', 'type': 'vid', 'nid': '5b8ad5739dc1b25690d8b1e9'},\n",
       " node-> {'src': 'http://abc.com/frogs.jpg', 'dom': 'domx', 'internal': True, 'type': 'vid', 'nid': '5b8ad5739dc1b25690d8b1ea'},\n",
       " node-> {'src': 'http://abc.com/frogs.jpg', 'type': 'aud', 'nid': '5b8ad5739dc1b25690d8b1eb'},\n",
       " node-> {'src': 'http://abc.com/frogs.jpg', 'dom': 'domx', 'internal': True, 'type': 'aud', 'nid': '5b8ad5739dc1b25690d8b1ec'},\n",
       " node-> {'src': 'http://abc.com/frogs.jpg', 'type': 'file', 'nid': '5b8ad5739dc1b25690d8b1ed'},\n",
       " node-> {'src': 'http://abc.com/frogs.jpg', 'dom': 'domx', 'internal': True, 'type': 'file', 'nid': '5b8ad5739dc1b25690d8b1ee'},\n",
       " node-> {'url': 'https://abc.com/frogs.yt', 'type': 'yt', 'nid': '5b8ad5739dc1b25690d8b1ef'},\n",
       " node-> {'title': 'Happiness and Satisfaction', 'type': 'th', 'nid': '5b8ad5739dc1b25690d8b1f0'},\n",
       " node-> {'url': 'https://abc.com/news', 'title': 'https://abc.com/news', 'type': 'lnk', 'nid': '5b8ad5739dc1b25690d8b1f1'},\n",
       " node-> {'url': 'https://abc.com/news', 'title': 'News', 'type': 'lnk', 'nid': '5b8ad5739dc1b25690d8b1f2'},\n",
       " node-> {'code': 'y = n.dat.nid', 'type': 'logic', 'nid': '5b8ad5739dc1b25690d8b1f3'}]"
      ]
     },
     "execution_count": 7,
     "metadata": {},
     "output_type": "execute_result"
    }
   ],
   "source": [
    "nl"
   ]
  },
  {
   "cell_type": "code",
   "execution_count": null,
   "metadata": {},
   "outputs": [],
   "source": []
  }
 ],
 "metadata": {
  "kernelspec": {
   "display_name": "Python 3",
   "language": "python",
   "name": "python3"
  },
  "language_info": {
   "codemirror_mode": {
    "name": "ipython",
    "version": 3
   },
   "file_extension": ".py",
   "mimetype": "text/x-python",
   "name": "python",
   "nbconvert_exporter": "python",
   "pygments_lexer": "ipython3",
   "version": "3.6.5"
  }
 },
 "nbformat": 4,
 "nbformat_minor": 2
}
