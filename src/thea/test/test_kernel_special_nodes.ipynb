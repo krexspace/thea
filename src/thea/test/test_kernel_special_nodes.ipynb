{
 "cells": [
  {
   "cell_type": "code",
   "execution_count": 1,
   "metadata": {},
   "outputs": [],
   "source": [
    "import sys\n",
    "sys.path.append('../..')\n",
    "import os\n",
    "os.environ['thea_server'] = '192.168.1.119'"
   ]
  },
  {
   "cell_type": "code",
   "execution_count": null,
   "metadata": {},
   "outputs": [],
   "source": []
  },
  {
   "cell_type": "code",
   "execution_count": 2,
   "metadata": {},
   "outputs": [
    {
     "name": "stdout",
     "output_type": "stream",
     "text": [
      "Connecting to Neo4j at bolt://192.168.1.119\n",
      "Connected to Neo4j\n",
      "Connecting to MongoDB at 192.168.1.119:27017\n",
      "Connected to MongoDB\n"
     ]
    }
   ],
   "source": [
    "import thea.core.kernel as k"
   ]
  },
  {
   "cell_type": "code",
   "execution_count": 3,
   "metadata": {},
   "outputs": [],
   "source": [
    "g = k.Graph()"
   ]
  },
  {
   "cell_type": "code",
   "execution_count": 4,
   "metadata": {},
   "outputs": [],
   "source": [
    "g.delete_all()"
   ]
  },
  {
   "cell_type": "code",
   "execution_count": 5,
   "metadata": {},
   "outputs": [],
   "source": [
    "nl = []"
   ]
  },
  {
   "cell_type": "code",
   "execution_count": null,
   "metadata": {},
   "outputs": [],
   "source": []
  },
  {
   "cell_type": "code",
   "execution_count": 6,
   "metadata": {},
   "outputs": [],
   "source": [
    "nl.append(g.node(title='Red stones'))\n",
    "nl.append(g.realm(title='Red stones realm'))\n",
    "nl.append(g.cluster('Yellow stones cluster'))\n",
    "nl.append(g.note('White stones note'))\n",
    "nl.append(g.idea('Green gems idea'))\n",
    "nl.append(g.image('http://abc.com/frogs.jpg'))\n",
    "nl.append(g.limage('http://abc.com/frogs.jpg'))\n",
    "nl.append(g.video('http://abc.com/frogs.jpg'))\n",
    "nl.append(g.lvideo('http://abc.com/frogs.jpg'))\n",
    "nl.append(g.audio('http://abc.com/frogs.jpg'))\n",
    "nl.append(g.laudio('http://abc.com/frogs.jpg'))\n",
    "nl.append(g.rfile('http://abc.com/frogs.jpg'))\n",
    "nl.append(g.lfile('http://abc.com/frogs.jpg'))\n",
    "nl.append(g.youtube('https://abc.com/frogs.yt'))\n",
    "nl.append(g.thought('Happiness and Satisfaction'))\n",
    "nl.append(g.link('https://abc.com/news'))\n",
    "nl.append(g.link('https://abc.com/news','News'))\n",
    "nl.append(g.logic('y = n.dat.nid'))"
   ]
  },
  {
   "cell_type": "code",
   "execution_count": 7,
   "metadata": {},
   "outputs": [
    {
     "data": {
      "text/plain": [
       "[node-> {'title': 'Red stones', 'type': 'th', 'zone': 'std', '_id': ObjectId('5af92a4a9dc1b2447c34ae50'), 'nid': '5af92a4a9dc1b2447c34ae50'},\n",
       " node-> {'title': 'Red stones realm', 'type': 'rlm', 'zone': 'std', '_id': ObjectId('5af92a4a9dc1b2447c34ae51'), 'nid': '5af92a4a9dc1b2447c34ae51'},\n",
       " node-> {'title': 'Yellow stones cluster', 'type': 'cl', 'zone': 'std', '_id': ObjectId('5af92a4a9dc1b2447c34ae52'), 'nid': '5af92a4a9dc1b2447c34ae52'},\n",
       " node-> {'title': 'White stones note', 'type': 'note', 'zone': 'std', '_id': ObjectId('5af92a4b9dc1b2447c34ae53'), 'nid': '5af92a4b9dc1b2447c34ae53'},\n",
       " node-> {'title': 'Green gems idea', 'type': 'idea', 'zone': 'std', '_id': ObjectId('5af92a4b9dc1b2447c34ae54'), 'nid': '5af92a4b9dc1b2447c34ae54'},\n",
       " node-> {'src': 'http://abc.com/frogs.jpg', 'type': 'img', 'zone': 'std', '_id': ObjectId('5af92a4b9dc1b2447c34ae55'), 'nid': '5af92a4b9dc1b2447c34ae55'},\n",
       " node-> {'src': 'http://abc.com/frogs.jpg', 'dom': 'domx', 'internal': True, 'type': 'img', 'zone': 'std', '_id': ObjectId('5af92a4b9dc1b2447c34ae56'), 'nid': '5af92a4b9dc1b2447c34ae56'},\n",
       " node-> {'src': 'http://abc.com/frogs.jpg', 'type': 'vid', 'zone': 'std', '_id': ObjectId('5af92a4b9dc1b2447c34ae57'), 'nid': '5af92a4b9dc1b2447c34ae57'},\n",
       " node-> {'src': 'http://abc.com/frogs.jpg', 'dom': 'domx', 'internal': True, 'type': 'vid', 'zone': 'std', '_id': ObjectId('5af92a4b9dc1b2447c34ae58'), 'nid': '5af92a4b9dc1b2447c34ae58'},\n",
       " node-> {'src': 'http://abc.com/frogs.jpg', 'type': 'aud', 'zone': 'std', '_id': ObjectId('5af92a4b9dc1b2447c34ae59'), 'nid': '5af92a4b9dc1b2447c34ae59'},\n",
       " node-> {'src': 'http://abc.com/frogs.jpg', 'dom': 'domx', 'internal': True, 'type': 'aud', 'zone': 'std', '_id': ObjectId('5af92a4b9dc1b2447c34ae5a'), 'nid': '5af92a4b9dc1b2447c34ae5a'},\n",
       " node-> {'src': 'http://abc.com/frogs.jpg', 'type': 'file', 'zone': 'std', '_id': ObjectId('5af92a4b9dc1b2447c34ae5b'), 'nid': '5af92a4b9dc1b2447c34ae5b'},\n",
       " node-> {'src': 'http://abc.com/frogs.jpg', 'dom': 'domx', 'internal': True, 'type': 'file', 'zone': 'std', '_id': ObjectId('5af92a4b9dc1b2447c34ae5c'), 'nid': '5af92a4b9dc1b2447c34ae5c'},\n",
       " node-> {'url': 'https://abc.com/frogs.yt', 'type': 'yt', 'zone': 'std', '_id': ObjectId('5af92a4b9dc1b2447c34ae5d'), 'nid': '5af92a4b9dc1b2447c34ae5d'},\n",
       " node-> {'title': 'Happiness and Satisfaction', 'type': 'th', 'zone': 'std', '_id': ObjectId('5af92a4b9dc1b2447c34ae5e'), 'nid': '5af92a4b9dc1b2447c34ae5e'},\n",
       " node-> {'url': 'https://abc.com/news', 'title': 'https://abc.com/news', 'type': 'lnk', 'zone': 'std', '_id': ObjectId('5af92a4b9dc1b2447c34ae5f'), 'nid': '5af92a4b9dc1b2447c34ae5f'},\n",
       " node-> {'url': 'https://abc.com/news', 'title': 'News', 'type': 'lnk', 'zone': 'std', '_id': ObjectId('5af92a4b9dc1b2447c34ae60'), 'nid': '5af92a4b9dc1b2447c34ae60'},\n",
       " node-> {'code': 'y = n.dat.nid', 'type': 'logic', 'zone': 'std', '_id': ObjectId('5af92a4b9dc1b2447c34ae61'), 'nid': '5af92a4b9dc1b2447c34ae61'}]"
      ]
     },
     "execution_count": 7,
     "metadata": {},
     "output_type": "execute_result"
    }
   ],
   "source": [
    "nl"
   ]
  },
  {
   "cell_type": "code",
   "execution_count": null,
   "metadata": {},
   "outputs": [],
   "source": []
  }
 ],
 "metadata": {
  "kernelspec": {
   "display_name": "Python 3",
   "language": "python",
   "name": "python3"
  },
  "language_info": {
   "codemirror_mode": {
    "name": "ipython",
    "version": 3
   },
   "file_extension": ".py",
   "mimetype": "text/x-python",
   "name": "python",
   "nbconvert_exporter": "python",
   "pygments_lexer": "ipython3",
   "version": "3.6.5"
  }
 },
 "nbformat": 4,
 "nbformat_minor": 2
}
