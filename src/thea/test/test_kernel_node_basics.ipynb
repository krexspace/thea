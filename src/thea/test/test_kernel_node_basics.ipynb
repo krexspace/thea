{
 "cells": [
  {
   "cell_type": "code",
   "execution_count": 1,
   "metadata": {},
   "outputs": [
    {
     "name": "stdout",
     "output_type": "stream",
     "text": [
      "Connecting to Neo4j at bolt://192.168.1.199\n",
      "Connected to Neo4j\n",
      "Connecting to MongoDB at 192.168.1.199:27017\n",
      "Connected to MongoDB\n"
     ]
    }
   ],
   "source": [
    "import sys\n",
    "sys.path.append('../..')\n",
    "import os\n",
    "os.environ['thea_server'] = '192.168.1.199'\n",
    "import thea.core.kernel2 as k\n",
    "#g = k.Graph()"
   ]
  },
  {
   "cell_type": "code",
   "execution_count": 2,
   "metadata": {},
   "outputs": [
    {
     "name": "stdout",
     "output_type": "stream",
     "text": [
      "In cmd_create_node: {'title': 'Great', 'body': 'These are great days'}\n"
     ]
    }
   ],
   "source": [
    "n = k.Node(title='Great',body='These are great days')"
   ]
  },
  {
   "cell_type": "code",
   "execution_count": 3,
   "metadata": {},
   "outputs": [
    {
     "data": {
      "text/plain": [
       "node-> {'title': 'Great', 'body': 'These are great days', 'nid': '5b8ae3109dc1b2670c003c39'}"
      ]
     },
     "execution_count": 3,
     "metadata": {},
     "output_type": "execute_result"
    }
   ],
   "source": [
    "n"
   ]
  },
  {
   "cell_type": "code",
   "execution_count": 4,
   "metadata": {},
   "outputs": [
    {
     "name": "stdout",
     "output_type": "stream",
     "text": [
      "In cmd_update_node: {'title': 'Great', 'body': 'These are great days', 'nid': '5b8ae3109dc1b2670c003c39', 'rating': 23}\n"
     ]
    },
    {
     "data": {
      "text/plain": [
       "node-> {'title': 'Great', 'body': 'These are great days', 'nid': '5b8ae3109dc1b2670c003c39', 'rating': 23}"
      ]
     },
     "execution_count": 4,
     "metadata": {},
     "output_type": "execute_result"
    }
   ],
   "source": [
    "n.set(rating=23)"
   ]
  },
  {
   "cell_type": "code",
   "execution_count": 5,
   "metadata": {},
   "outputs": [
    {
     "data": {
      "text/plain": [
       "{'title': 'Great',\n",
       " 'body': 'These are great days',\n",
       " 'nid': '5b8ae3109dc1b2670c003c39',\n",
       " 'rating': 23}"
      ]
     },
     "execution_count": 5,
     "metadata": {},
     "output_type": "execute_result"
    }
   ],
   "source": [
    "n.dat"
   ]
  },
  {
   "cell_type": "code",
   "execution_count": null,
   "metadata": {},
   "outputs": [],
   "source": []
  },
  {
   "cell_type": "code",
   "execution_count": 6,
   "metadata": {},
   "outputs": [
    {
     "name": "stdout",
     "output_type": "stream",
     "text": [
      "In cmd_find_by: {'nid': '5b8ae3109dc1b2670c003c39'}\n",
      "{'nid': '5b8ae3109dc1b2670c003c39'}\n"
     ]
    },
    {
     "data": {
      "text/plain": [
       "node-> {'title': 'Great', 'body': 'These are great days', 'type': 'th', 'zone': 'std', 'rating': 23, 'nid': '5b8ae3109dc1b2670c003c39'}"
      ]
     },
     "execution_count": 6,
     "metadata": {},
     "output_type": "execute_result"
    }
   ],
   "source": [
    "n.refresh()"
   ]
  },
  {
   "cell_type": "code",
   "execution_count": 7,
   "metadata": {},
   "outputs": [
    {
     "data": {
      "text/plain": [
       "{'title': 'Great',\n",
       " 'body': 'These are great days',\n",
       " 'type': 'th',\n",
       " 'zone': 'std',\n",
       " 'rating': 23,\n",
       " 'nid': '5b8ae3109dc1b2670c003c39'}"
      ]
     },
     "execution_count": 7,
     "metadata": {},
     "output_type": "execute_result"
    }
   ],
   "source": [
    "n.dat"
   ]
  },
  {
   "cell_type": "code",
   "execution_count": 8,
   "metadata": {},
   "outputs": [
    {
     "name": "stdout",
     "output_type": "stream",
     "text": [
      "In cmd_update_node: {'title': 'Great', 'body': 'These are great days', 'type': 'th', 'zone': 'std', 'rating': 23, 'nid': '5b8ae3109dc1b2670c003c39', 'kwds': ['cat', 'dog', 'stone']}\n"
     ]
    },
    {
     "data": {
      "text/plain": [
       "node-> {'title': 'Great', 'body': 'These are great days', 'type': 'th', 'zone': 'std', 'rating': 23, 'nid': '5b8ae3109dc1b2670c003c39', 'kwds': ['cat', 'dog', 'stone']}"
      ]
     },
     "execution_count": 8,
     "metadata": {},
     "output_type": "execute_result"
    }
   ],
   "source": [
    "n.set(kwds=['cat','dog','stone'])"
   ]
  },
  {
   "cell_type": "code",
   "execution_count": 9,
   "metadata": {},
   "outputs": [
    {
     "data": {
      "text/plain": [
       "{'title': 'Great',\n",
       " 'body': 'These are great days',\n",
       " 'type': 'th',\n",
       " 'zone': 'std',\n",
       " 'rating': 23,\n",
       " 'nid': '5b8ae3109dc1b2670c003c39',\n",
       " 'kwds': ['cat', 'dog', 'stone']}"
      ]
     },
     "execution_count": 9,
     "metadata": {},
     "output_type": "execute_result"
    }
   ],
   "source": [
    "n.dat"
   ]
  },
  {
   "cell_type": "code",
   "execution_count": 10,
   "metadata": {},
   "outputs": [
    {
     "name": "stdout",
     "output_type": "stream",
     "text": [
      "In cmd_find_by: {'nid': '5b8ae3109dc1b2670c003c39'}\n",
      "{'nid': '5b8ae3109dc1b2670c003c39'}\n"
     ]
    },
    {
     "data": {
      "text/plain": [
       "{'title': 'Great',\n",
       " 'body': 'These are great days',\n",
       " 'type': 'th',\n",
       " 'zone': 'std',\n",
       " 'rating': 23,\n",
       " 'kwds': ['cat', 'dog', 'stone'],\n",
       " 'nid': '5b8ae3109dc1b2670c003c39'}"
      ]
     },
     "execution_count": 10,
     "metadata": {},
     "output_type": "execute_result"
    }
   ],
   "source": [
    "n.refresh().dat"
   ]
  },
  {
   "cell_type": "code",
   "execution_count": 11,
   "metadata": {},
   "outputs": [
    {
     "name": "stdout",
     "output_type": "stream",
     "text": [
      "In cmd_update_node: {'title': 'Great', 'body': 'These are great days', 'type': 'th', 'zone': 'std', 'rating': 23, 'kwds': ['cat', 'dog', 'stone'], 'nid': '5b8ae3109dc1b2670c003c39', 'markers': 'REALM,GROUP,IDEA'}\n",
      "In cmd_find_by: {'nid': '5b8ae3109dc1b2670c003c39'}\n",
      "{'nid': '5b8ae3109dc1b2670c003c39'}\n"
     ]
    },
    {
     "data": {
      "text/plain": [
       "node-> {'title': 'Great', 'body': 'These are great days', 'type': 'th', 'zone': 'std', 'rating': 23, 'kwds': ['cat', 'dog', 'stone'], 'markers': ['REALM', 'GROUP', 'IDEA'], 'nid': '5b8ae3109dc1b2670c003c39'}"
      ]
     },
     "execution_count": 11,
     "metadata": {},
     "output_type": "execute_result"
    }
   ],
   "source": [
    "n.set(markers='REALM,GROUP,IDEA').refresh()"
   ]
  },
  {
   "cell_type": "code",
   "execution_count": null,
   "metadata": {},
   "outputs": [],
   "source": []
  }
 ],
 "metadata": {
  "kernelspec": {
   "display_name": "Python 3",
   "language": "python",
   "name": "python3"
  },
  "language_info": {
   "codemirror_mode": {
    "name": "ipython",
    "version": 3
   },
   "file_extension": ".py",
   "mimetype": "text/x-python",
   "name": "python",
   "nbconvert_exporter": "python",
   "pygments_lexer": "ipython3",
   "version": "3.6.5"
  }
 },
 "nbformat": 4,
 "nbformat_minor": 2
}
