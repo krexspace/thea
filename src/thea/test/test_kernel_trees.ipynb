{
 "cells": [
  {
   "cell_type": "code",
   "execution_count": 1,
   "metadata": {},
   "outputs": [],
   "source": [
    "import sys\n",
    "sys.path.append('../..')\n",
    "import os\n",
    "os.environ['thea_server'] = '192.168.1.119'"
   ]
  },
  {
   "cell_type": "code",
   "execution_count": null,
   "metadata": {},
   "outputs": [],
   "source": []
  },
  {
   "cell_type": "code",
   "execution_count": 2,
   "metadata": {},
   "outputs": [
    {
     "name": "stdout",
     "output_type": "stream",
     "text": [
      "Connecting to Neo4j at bolt://192.168.1.119\n",
      "Connected to Neo4j\n",
      "Connecting to MongoDB at 192.168.1.119:27017\n",
      "Connected to MongoDB\n"
     ]
    }
   ],
   "source": [
    "import thea.core.kernel as k"
   ]
  },
  {
   "cell_type": "code",
   "execution_count": 3,
   "metadata": {},
   "outputs": [
    {
     "name": "stdout",
     "output_type": "stream",
     "text": [
      "Graph object initialized\n"
     ]
    }
   ],
   "source": [
    "g = k.Graph()"
   ]
  },
  {
   "cell_type": "code",
   "execution_count": 4,
   "metadata": {},
   "outputs": [
    {
     "data": {
      "text/plain": [
       "[node-> {'title': 'Red stones', 'type': 'note', 'zone': 'std', 'nid': '5af9baab9dc1b2099c64c929'},\n",
       " node-> {'title': 'Yellow stones', 'type': 'note', 'zone': 'std', 'nid': '5af9baab9dc1b2099c64c92a'},\n",
       " node-> {'title': 'White stones', 'type': 'idea', 'zone': 'std', 'nid': '5af9baab9dc1b2099c64c92b'},\n",
       " node-> {'title': 'Green gems', 'type': 'th', 'zone': 'std', 'nid': '5af9baab9dc1b2099c64c92c'},\n",
       " node-> {'title': 'Ruby', 'type': 'idea', 'zone': 'std', 'nid': '5af9baab9dc1b2099c64c92d'},\n",
       " node-> {'title': 'Diamond', 'type': 'note', 'zone': 'std', 'nid': '5af9baab9dc1b2099c64c92e'}]"
      ]
     },
     "execution_count": 4,
     "metadata": {},
     "output_type": "execute_result"
    }
   ],
   "source": [
    "g.f()"
   ]
  },
  {
   "cell_type": "code",
   "execution_count": 5,
   "metadata": {},
   "outputs": [],
   "source": [
    "g.delete_all()"
   ]
  },
  {
   "cell_type": "code",
   "execution_count": 6,
   "metadata": {},
   "outputs": [],
   "source": [
    "n1 = g.note('Red stones')\n",
    "n2 = g.note('Yellow stones')\n",
    "n3 = g.idea('White stones')\n",
    "n4 = g.thought('Green gems')\n",
    "n5 = g.idea('Ruby')\n",
    "n6 = g.note('Diamond')"
   ]
  },
  {
   "cell_type": "code",
   "execution_count": 7,
   "metadata": {},
   "outputs": [
    {
     "data": {
      "text/plain": [
       "node-> {'title': 'Red stones', 'type': 'note', 'nid': '5af9bb199dc1b230c8b7dcb4'}"
      ]
     },
     "execution_count": 7,
     "metadata": {},
     "output_type": "execute_result"
    }
   ],
   "source": [
    "n1.clo(n2).clo(n3)"
   ]
  },
  {
   "cell_type": "code",
   "execution_count": 8,
   "metadata": {},
   "outputs": [
    {
     "data": {
      "text/plain": [
       "node-> {'title': 'Yellow stones', 'type': 'note', 'nid': '5af9bb199dc1b230c8b7dcb5'}"
      ]
     },
     "execution_count": 8,
     "metadata": {},
     "output_type": "execute_result"
    }
   ],
   "source": [
    "n2.clo(n4,20,'like').clo(n5,80,'ext')"
   ]
  },
  {
   "cell_type": "code",
   "execution_count": 9,
   "metadata": {},
   "outputs": [
    {
     "data": {
      "text/plain": [
       "node-> {'title': 'Green gems', 'type': 'th', 'nid': '5af9bb199dc1b230c8b7dcb7'}"
      ]
     },
     "execution_count": 9,
     "metadata": {},
     "output_type": "execute_result"
    }
   ],
   "source": [
    "n4.clo(n6)"
   ]
  },
  {
   "cell_type": "code",
   "execution_count": 10,
   "metadata": {},
   "outputs": [
    {
     "data": {
      "text/plain": [
       "conn-> {'type': 'std', 'st': 50, 'cid': 144, 'src': '5af9bb199dc1b230c8b7dcb4', 'dest': '5af9bb199dc1b230c8b7dcb5'}"
      ]
     },
     "execution_count": 10,
     "metadata": {},
     "output_type": "execute_result"
    }
   ],
   "source": [
    "n1.fol(n2)"
   ]
  },
  {
   "cell_type": "code",
   "execution_count": 11,
   "metadata": {},
   "outputs": [
    {
     "data": {
      "text/plain": [
       "(set(), [])"
      ]
     },
     "execution_count": 11,
     "metadata": {},
     "output_type": "execute_result"
    }
   ],
   "source": [
    "n1.ufonodeids('like')"
   ]
  },
  {
   "cell_type": "code",
   "execution_count": 12,
   "metadata": {},
   "outputs": [
    {
     "data": {
      "text/plain": [
       "({'5af9bb199dc1b230c8b7dcb5', '5af9bb199dc1b230c8b7dcb6'},\n",
       " [{'cid': 81,\n",
       "   'type': 'std',\n",
       "   'st': 50,\n",
       "   'src': '5af9bb199dc1b230c8b7dcb4',\n",
       "   'dest': '5af9bb199dc1b230c8b7dcb6'},\n",
       "  {'cid': 80,\n",
       "   'type': 'std',\n",
       "   'st': 50,\n",
       "   'src': '5af9bb199dc1b230c8b7dcb4',\n",
       "   'dest': '5af9bb199dc1b230c8b7dcb5'}])"
      ]
     },
     "execution_count": 12,
     "metadata": {},
     "output_type": "execute_result"
    }
   ],
   "source": [
    "n1.ufonodeids()"
   ]
  },
  {
   "cell_type": "code",
   "execution_count": 13,
   "metadata": {},
   "outputs": [
    {
     "data": {
      "text/plain": [
       "({'5af9bb199dc1b230c8b7dcb5', '5af9bb199dc1b230c8b7dcb6'},\n",
       " [{'cid': 81,\n",
       "   'type': 'std',\n",
       "   'st': 50,\n",
       "   'src': '5af9bb199dc1b230c8b7dcb4',\n",
       "   'dest': '5af9bb199dc1b230c8b7dcb6'},\n",
       "  {'cid': 80,\n",
       "   'type': 'std',\n",
       "   'st': 50,\n",
       "   'src': '5af9bb199dc1b230c8b7dcb4',\n",
       "   'dest': '5af9bb199dc1b230c8b7dcb5'}])"
      ]
     },
     "execution_count": 13,
     "metadata": {},
     "output_type": "execute_result"
    }
   ],
   "source": [
    "n1.ufotree('std')"
   ]
  },
  {
   "cell_type": "code",
   "execution_count": 14,
   "metadata": {},
   "outputs": [
    {
     "data": {
      "text/plain": [
       "({'5af9bb199dc1b230c8b7dcb5',\n",
       "  '5af9bb199dc1b230c8b7dcb6',\n",
       "  '5af9bb199dc1b230c8b7dcb7',\n",
       "  '5af9bb199dc1b230c8b7dcb8',\n",
       "  '5af9bb199dc1b230c8b7dcb9'},\n",
       " [{'cid': 81,\n",
       "   'type': 'std',\n",
       "   'st': 50,\n",
       "   'src': '5af9bb199dc1b230c8b7dcb4',\n",
       "   'dest': '5af9bb199dc1b230c8b7dcb6'},\n",
       "  {'cid': 80,\n",
       "   'type': 'std',\n",
       "   'st': 50,\n",
       "   'src': '5af9bb199dc1b230c8b7dcb4',\n",
       "   'dest': '5af9bb199dc1b230c8b7dcb5'},\n",
       "  {'cid': 25,\n",
       "   'type': 'ext',\n",
       "   'st': 80,\n",
       "   'src': '5af9bb199dc1b230c8b7dcb5',\n",
       "   'dest': '5af9bb199dc1b230c8b7dcb8'},\n",
       "  {'cid': 82,\n",
       "   'type': 'like',\n",
       "   'st': 20,\n",
       "   'src': '5af9bb199dc1b230c8b7dcb5',\n",
       "   'dest': '5af9bb199dc1b230c8b7dcb7'},\n",
       "  {'cid': 26,\n",
       "   'type': 'std',\n",
       "   'st': 50,\n",
       "   'src': '5af9bb199dc1b230c8b7dcb7',\n",
       "   'dest': '5af9bb199dc1b230c8b7dcb9'}])"
      ]
     },
     "execution_count": 14,
     "metadata": {},
     "output_type": "execute_result"
    }
   ],
   "source": [
    "n1.ufotree()"
   ]
  },
  {
   "cell_type": "code",
   "execution_count": 15,
   "metadata": {},
   "outputs": [
    {
     "data": {
      "text/plain": [
       "({'5af9bb199dc1b230c8b7dcb5', '5af9bb199dc1b230c8b7dcb6'},\n",
       " [{'cid': 81,\n",
       "   'type': 'std',\n",
       "   'st': 50,\n",
       "   'src': '5af9bb199dc1b230c8b7dcb4',\n",
       "   'dest': '5af9bb199dc1b230c8b7dcb6'},\n",
       "  {'cid': 80,\n",
       "   'type': 'std',\n",
       "   'st': 50,\n",
       "   'src': '5af9bb199dc1b230c8b7dcb4',\n",
       "   'dest': '5af9bb199dc1b230c8b7dcb5'}])"
      ]
     },
     "execution_count": 15,
     "metadata": {},
     "output_type": "execute_result"
    }
   ],
   "source": [
    "n1.ufotree('std')"
   ]
  },
  {
   "cell_type": "code",
   "execution_count": null,
   "metadata": {},
   "outputs": [],
   "source": []
  }
 ],
 "metadata": {
  "kernelspec": {
   "display_name": "Python 3",
   "language": "python",
   "name": "python3"
  },
  "language_info": {
   "codemirror_mode": {
    "name": "ipython",
    "version": 3
   },
   "file_extension": ".py",
   "mimetype": "text/x-python",
   "name": "python",
   "nbconvert_exporter": "python",
   "pygments_lexer": "ipython3",
   "version": "3.6.5"
  }
 },
 "nbformat": 4,
 "nbformat_minor": 2
}
