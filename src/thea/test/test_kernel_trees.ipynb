{
 "cells": [
  {
   "cell_type": "code",
   "execution_count": 1,
   "metadata": {},
   "outputs": [],
   "source": [
    "import sys\n",
    "sys.path.append('../..')\n",
    "import os\n",
    "os.environ['thea_server'] = '192.168.1.119'"
   ]
  },
  {
   "cell_type": "code",
   "execution_count": null,
   "metadata": {},
   "outputs": [],
   "source": []
  },
  {
   "cell_type": "code",
   "execution_count": 2,
   "metadata": {},
   "outputs": [
    {
     "name": "stdout",
     "output_type": "stream",
     "text": [
      "Connecting to Neo4j at bolt://192.168.1.119\n",
      "Connected to Neo4j\n",
      "Connecting to MongoDB at 192.168.1.119:27017\n",
      "Connected to MongoDB\n"
     ]
    }
   ],
   "source": [
    "import thea.core.kernel as k"
   ]
  },
  {
   "cell_type": "code",
   "execution_count": 3,
   "metadata": {},
   "outputs": [
    {
     "name": "stdout",
     "output_type": "stream",
     "text": [
      "Graph object initialized\n"
     ]
    }
   ],
   "source": [
    "g = k.Graph()"
   ]
  },
  {
   "cell_type": "code",
   "execution_count": 4,
   "metadata": {},
   "outputs": [
    {
     "data": {
      "text/plain": [
       "[node-> {'title': 'Red stones', 'type': 'note', 'zone': 'std', 'nid': '5afde3469dc1b2082cdca41c'},\n",
       " node-> {'title': 'Yellow stones', 'type': 'note', 'zone': 'std', 'nid': '5afde3469dc1b2082cdca41d'},\n",
       " node-> {'title': 'White stones', 'type': 'idea', 'zone': 'std', 'nid': '5afde3469dc1b2082cdca41e'},\n",
       " node-> {'title': 'Green gems', 'type': 'th', 'zone': 'std', 'nid': '5afde3469dc1b2082cdca41f'},\n",
       " node-> {'title': 'Ruby', 'type': 'idea', 'zone': 'std', 'nid': '5afde3469dc1b2082cdca420'},\n",
       " node-> {'title': 'Diamond', 'type': 'note', 'zone': 'std', 'nid': '5afde3469dc1b2082cdca421'}]"
      ]
     },
     "execution_count": 4,
     "metadata": {},
     "output_type": "execute_result"
    }
   ],
   "source": [
    "g.f()"
   ]
  },
  {
   "cell_type": "code",
   "execution_count": 5,
   "metadata": {},
   "outputs": [],
   "source": [
    "g.delete_all()"
   ]
  },
  {
   "cell_type": "code",
   "execution_count": 6,
   "metadata": {},
   "outputs": [],
   "source": [
    "n1 = g.note('Red stones')\n",
    "n2 = g.note('Yellow stones')\n",
    "n3 = g.idea('White stones')\n",
    "n4 = g.thought('Green gems')\n",
    "n5 = g.idea('Ruby')\n",
    "n6 = g.note('Diamond')"
   ]
  },
  {
   "cell_type": "code",
   "execution_count": 7,
   "metadata": {},
   "outputs": [
    {
     "data": {
      "text/plain": [
       "node-> {'title': 'Red stones', 'type': 'note', 'nid': '5afde3679dc1b20b68168b13'}"
      ]
     },
     "execution_count": 7,
     "metadata": {},
     "output_type": "execute_result"
    }
   ],
   "source": [
    "n1.clo(n2).clo(n3)"
   ]
  },
  {
   "cell_type": "code",
   "execution_count": 8,
   "metadata": {},
   "outputs": [
    {
     "data": {
      "text/plain": [
       "node-> {'title': 'Yellow stones', 'type': 'note', 'nid': '5afde3679dc1b20b68168b14'}"
      ]
     },
     "execution_count": 8,
     "metadata": {},
     "output_type": "execute_result"
    }
   ],
   "source": [
    "n2.clo(n4,20,'like').clo(n5,80,'ext')"
   ]
  },
  {
   "cell_type": "code",
   "execution_count": 9,
   "metadata": {},
   "outputs": [
    {
     "data": {
      "text/plain": [
       "node-> {'title': 'Green gems', 'type': 'th', 'nid': '5afde3689dc1b20b68168b16'}"
      ]
     },
     "execution_count": 9,
     "metadata": {},
     "output_type": "execute_result"
    }
   ],
   "source": [
    "n4.clo(n6)"
   ]
  },
  {
   "cell_type": "code",
   "execution_count": 10,
   "metadata": {},
   "outputs": [
    {
     "data": {
      "text/plain": [
       "conn-> {'type': 'std', 'st': 50, 'cid': 224, 'src': '5afde3679dc1b20b68168b13', 'dest': '5afde3679dc1b20b68168b14'}"
      ]
     },
     "execution_count": 10,
     "metadata": {},
     "output_type": "execute_result"
    }
   ],
   "source": [
    "n1.fol(n2)"
   ]
  },
  {
   "cell_type": "code",
   "execution_count": 11,
   "metadata": {},
   "outputs": [
    {
     "data": {
      "text/plain": [
       "(set(), [])"
      ]
     },
     "execution_count": 11,
     "metadata": {},
     "output_type": "execute_result"
    }
   ],
   "source": [
    "n1.ufonids('like')"
   ]
  },
  {
   "cell_type": "code",
   "execution_count": 12,
   "metadata": {},
   "outputs": [
    {
     "data": {
      "text/plain": [
       "({'5afde3679dc1b20b68168b14', '5afde3689dc1b20b68168b15'},\n",
       " [{'cid': 221,\n",
       "   'type': 'std',\n",
       "   'st': 50,\n",
       "   'src': '5afde3679dc1b20b68168b13',\n",
       "   'dest': '5afde3689dc1b20b68168b15'},\n",
       "  {'cid': 220,\n",
       "   'type': 'std',\n",
       "   'st': 50,\n",
       "   'src': '5afde3679dc1b20b68168b13',\n",
       "   'dest': '5afde3679dc1b20b68168b14'}])"
      ]
     },
     "execution_count": 12,
     "metadata": {},
     "output_type": "execute_result"
    }
   ],
   "source": [
    "n1.ufonids()"
   ]
  },
  {
   "cell_type": "code",
   "execution_count": 13,
   "metadata": {},
   "outputs": [
    {
     "data": {
      "text/plain": [
       "({'5afde3679dc1b20b68168b14', '5afde3689dc1b20b68168b15'},\n",
       " [{'cid': 221,\n",
       "   'type': 'std',\n",
       "   'st': 50,\n",
       "   'src': '5afde3679dc1b20b68168b13',\n",
       "   'dest': '5afde3689dc1b20b68168b15'},\n",
       "  {'cid': 220,\n",
       "   'type': 'std',\n",
       "   'st': 50,\n",
       "   'src': '5afde3679dc1b20b68168b13',\n",
       "   'dest': '5afde3679dc1b20b68168b14'}])"
      ]
     },
     "execution_count": 13,
     "metadata": {},
     "output_type": "execute_result"
    }
   ],
   "source": [
    "n1.ufotree('std')"
   ]
  },
  {
   "cell_type": "code",
   "execution_count": 14,
   "metadata": {},
   "outputs": [
    {
     "data": {
      "text/plain": [
       "({'5afde3679dc1b20b68168b14',\n",
       "  '5afde3689dc1b20b68168b15',\n",
       "  '5afde3689dc1b20b68168b16',\n",
       "  '5afde3689dc1b20b68168b17',\n",
       "  '5afde3689dc1b20b68168b18'},\n",
       " [{'cid': 221,\n",
       "   'type': 'std',\n",
       "   'st': 50,\n",
       "   'src': '5afde3679dc1b20b68168b13',\n",
       "   'dest': '5afde3689dc1b20b68168b15'},\n",
       "  {'cid': 220,\n",
       "   'type': 'std',\n",
       "   'st': 50,\n",
       "   'src': '5afde3679dc1b20b68168b13',\n",
       "   'dest': '5afde3679dc1b20b68168b14'},\n",
       "  {'cid': 223,\n",
       "   'type': 'ext',\n",
       "   'st': 80,\n",
       "   'src': '5afde3679dc1b20b68168b14',\n",
       "   'dest': '5afde3689dc1b20b68168b17'},\n",
       "  {'cid': 222,\n",
       "   'type': 'like',\n",
       "   'st': 20,\n",
       "   'src': '5afde3679dc1b20b68168b14',\n",
       "   'dest': '5afde3689dc1b20b68168b16'},\n",
       "  {'cid': 224,\n",
       "   'type': 'std',\n",
       "   'st': 50,\n",
       "   'src': '5afde3689dc1b20b68168b16',\n",
       "   'dest': '5afde3689dc1b20b68168b18'}])"
      ]
     },
     "execution_count": 14,
     "metadata": {},
     "output_type": "execute_result"
    }
   ],
   "source": [
    "n1.ufotree()"
   ]
  },
  {
   "cell_type": "code",
   "execution_count": 15,
   "metadata": {},
   "outputs": [
    {
     "data": {
      "text/plain": [
       "({'5afde3679dc1b20b68168b14', '5afde3689dc1b20b68168b15'},\n",
       " [{'cid': 221,\n",
       "   'type': 'std',\n",
       "   'st': 50,\n",
       "   'src': '5afde3679dc1b20b68168b13',\n",
       "   'dest': '5afde3689dc1b20b68168b15'},\n",
       "  {'cid': 220,\n",
       "   'type': 'std',\n",
       "   'st': 50,\n",
       "   'src': '5afde3679dc1b20b68168b13',\n",
       "   'dest': '5afde3679dc1b20b68168b14'}])"
      ]
     },
     "execution_count": 15,
     "metadata": {},
     "output_type": "execute_result"
    }
   ],
   "source": [
    "n1.ufotree('std')"
   ]
  },
  {
   "cell_type": "code",
   "execution_count": 32,
   "metadata": {},
   "outputs": [
    {
     "data": {
      "text/plain": [
       "[node-> {'title': 'Yellow stones', 'type': 'note', 'zone': 'std', 'nid': '5afde3679dc1b20b68168b14'},\n",
       " node-> {'title': 'White stones', 'type': 'idea', 'zone': 'std', 'nid': '5afde3689dc1b20b68168b15'}]"
      ]
     },
     "execution_count": 32,
     "metadata": {},
     "output_type": "execute_result"
    }
   ],
   "source": [
    "n1.fons('std')"
   ]
  },
  {
   "cell_type": "code",
   "execution_count": 35,
   "metadata": {},
   "outputs": [
    {
     "data": {
      "text/plain": [
       "[node-> {'title': 'Yellow stones', 'type': 'note', 'zone': 'std', 'nid': '5afde3679dc1b20b68168b14'},\n",
       " node-> {'title': 'White stones', 'type': 'idea', 'zone': 'std', 'nid': '5afde3689dc1b20b68168b15'}]"
      ]
     },
     "execution_count": 35,
     "metadata": {},
     "output_type": "execute_result"
    }
   ],
   "source": [
    "n1.grow().onodes"
   ]
  },
  {
   "cell_type": "code",
   "execution_count": 18,
   "metadata": {},
   "outputs": [
    {
     "data": {
      "text/plain": [
       "node-> {'title': 'Red stones', 'type': 'note', 'nid': '5afde3679dc1b20b68168b13'}, num onodes-> 2"
      ]
     },
     "execution_count": 18,
     "metadata": {},
     "output_type": "execute_result"
    }
   ],
   "source": [
    "n1.growt()"
   ]
  },
  {
   "cell_type": "code",
   "execution_count": 40,
   "metadata": {},
   "outputs": [
    {
     "data": {
      "text/plain": [
       "node-> {'title': 'Yellow stones', 'type': 'note', 'zone': 'std', 'nid': '5afde3679dc1b20b68168b14'}, num onodes-> 1"
      ]
     },
     "execution_count": 40,
     "metadata": {},
     "output_type": "execute_result"
    }
   ],
   "source": [
    "n1.clear().grow().geto()[0].grow('like')"
   ]
  },
  {
   "cell_type": "code",
   "execution_count": 19,
   "metadata": {},
   "outputs": [
    {
     "data": {
      "text/plain": [
       "node-> {'title': 'Red stones', 'type': 'note', 'nid': '5afde3679dc1b20b68168b13'}, num onodes-> 2"
      ]
     },
     "execution_count": 19,
     "metadata": {},
     "output_type": "execute_result"
    }
   ],
   "source": [
    "n1"
   ]
  },
  {
   "cell_type": "code",
   "execution_count": 20,
   "metadata": {},
   "outputs": [
    {
     "data": {
      "text/plain": [
       "[node-> {'title': 'Yellow stones', 'type': 'note', 'zone': 'std', 'nid': '5afde3679dc1b20b68168b14'}, num onodes-> 2,\n",
       " node-> {'title': 'White stones', 'type': 'idea', 'zone': 'std', 'nid': '5afde3689dc1b20b68168b15'}, num onodes-> 0]"
      ]
     },
     "execution_count": 20,
     "metadata": {},
     "output_type": "execute_result"
    }
   ],
   "source": [
    "n1.onodes"
   ]
  },
  {
   "cell_type": "code",
   "execution_count": 21,
   "metadata": {},
   "outputs": [
    {
     "data": {
      "text/plain": [
       "[node-> {'title': 'Green gems', 'type': 'th', 'zone': 'std', 'nid': '5afde3689dc1b20b68168b16'}, num onodes-> 1,\n",
       " node-> {'title': 'Ruby', 'type': 'idea', 'zone': 'std', 'nid': '5afde3689dc1b20b68168b17'}, num onodes-> 0]"
      ]
     },
     "execution_count": 21,
     "metadata": {},
     "output_type": "execute_result"
    }
   ],
   "source": [
    "n1.onodes[0].onodes"
   ]
  },
  {
   "cell_type": "code",
   "execution_count": 22,
   "metadata": {},
   "outputs": [
    {
     "data": {
      "text/plain": [
       "[node-> {'title': 'Diamond', 'type': 'note', 'zone': 'std', 'nid': '5afde3689dc1b20b68168b18'}, num onodes-> 0]"
      ]
     },
     "execution_count": 22,
     "metadata": {},
     "output_type": "execute_result"
    }
   ],
   "source": [
    "n1.onodes[0].onodes[0].onodes"
   ]
  },
  {
   "cell_type": "code",
   "execution_count": 23,
   "metadata": {},
   "outputs": [
    {
     "data": {
      "text/plain": [
       "[]"
      ]
     },
     "execution_count": 23,
     "metadata": {},
     "output_type": "execute_result"
    }
   ],
   "source": [
    "n1.onodes[0].onodes[0].onodes[0].onodes"
   ]
  },
  {
   "cell_type": "code",
   "execution_count": 24,
   "metadata": {},
   "outputs": [
    {
     "data": {
      "text/plain": [
       "[node-> {'title': 'Yellow stones', 'type': 'note', 'zone': 'std', 'nid': '5afde3679dc1b20b68168b14'}, num onodes-> 2,\n",
       " node-> {'title': 'White stones', 'type': 'idea', 'zone': 'std', 'nid': '5afde3689dc1b20b68168b15'}, num onodes-> 0]"
      ]
     },
     "execution_count": 24,
     "metadata": {},
     "output_type": "execute_result"
    }
   ],
   "source": [
    "n1.geto()"
   ]
  },
  {
   "cell_type": "code",
   "execution_count": 25,
   "metadata": {},
   "outputs": [
    {
     "data": {
      "text/plain": [
       "node-> {'title': 'Red stones', 'type': 'note', 'nid': '5afde3679dc1b20b68168b13'}"
      ]
     },
     "execution_count": 25,
     "metadata": {},
     "output_type": "execute_result"
    }
   ],
   "source": [
    "n1.clear()"
   ]
  },
  {
   "cell_type": "code",
   "execution_count": 26,
   "metadata": {},
   "outputs": [
    {
     "data": {
      "text/plain": [
       "[node-> {'title': 'Diamond', 'type': 'note', 'zone': 'std', 'nid': '5afde3689dc1b20b68168b18'}, num onodes-> 0]"
      ]
     },
     "execution_count": 26,
     "metadata": {},
     "output_type": "execute_result"
    }
   ],
   "source": [
    "n1.growt().geto()[0].geto()[0].geto()"
   ]
  },
  {
   "cell_type": "code",
   "execution_count": 27,
   "metadata": {},
   "outputs": [
    {
     "data": {
      "text/plain": [
       "node-> {'title': 'Red stones', 'type': 'note', 'nid': '5afde3679dc1b20b68168b13'}"
      ]
     },
     "execution_count": 27,
     "metadata": {},
     "output_type": "execute_result"
    }
   ],
   "source": [
    "n1.clear()"
   ]
  },
  {
   "cell_type": "code",
   "execution_count": 28,
   "metadata": {},
   "outputs": [
    {
     "data": {
      "text/plain": [
       "[]"
      ]
     },
     "execution_count": 28,
     "metadata": {},
     "output_type": "execute_result"
    }
   ],
   "source": [
    "n1.grow().geto()[0].grow().geto()[0].grow().geto()[0].grow().geto()"
   ]
  },
  {
   "cell_type": "code",
   "execution_count": 29,
   "metadata": {},
   "outputs": [
    {
     "name": "stdout",
     "output_type": "stream",
     "text": [
      "node-> {'title': 'Red stones', 'type': 'note', 'nid': '5afde3679dc1b20b68168b13'}, num onodes-> 2\n"
     ]
    },
    {
     "data": {
      "text/plain": [
       "node-> {'title': 'Red stones', 'type': 'note', 'nid': '5afde3679dc1b20b68168b13'}, num onodes-> 2"
      ]
     },
     "execution_count": 29,
     "metadata": {},
     "output_type": "execute_result"
    }
   ],
   "source": [
    "n1.print()"
   ]
  }
 ],
 "metadata": {
  "kernelspec": {
   "display_name": "Python 3",
   "language": "python",
   "name": "python3"
  },
  "language_info": {
   "codemirror_mode": {
    "name": "ipython",
    "version": 3
   },
   "file_extension": ".py",
   "mimetype": "text/x-python",
   "name": "python",
   "nbconvert_exporter": "python",
   "pygments_lexer": "ipython3",
   "version": "3.6.5"
  }
 },
 "nbformat": 4,
 "nbformat_minor": 2
}
