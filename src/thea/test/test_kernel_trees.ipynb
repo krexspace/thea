{
 "cells": [
  {
   "cell_type": "code",
   "execution_count": 1,
   "metadata": {},
   "outputs": [],
   "source": [
    "import sys\n",
    "sys.path.append('../..')"
   ]
  },
  {
   "cell_type": "code",
   "execution_count": null,
   "metadata": {},
   "outputs": [],
   "source": []
  },
  {
   "cell_type": "code",
   "execution_count": 2,
   "metadata": {},
   "outputs": [
    {
     "name": "stdout",
     "output_type": "stream",
     "text": [
      "Connecting to Neo4j at bolt://192.168.1.118\n",
      "Connected to Neo4j\n",
      "Connecting to MongoDB at 192.168.1.119:27017\n",
      "Connected to MongoDB\n"
     ]
    }
   ],
   "source": [
    "import thea.core.kernel as k"
   ]
  },
  {
   "cell_type": "code",
   "execution_count": 3,
   "metadata": {},
   "outputs": [],
   "source": [
    "g = k.Graph()"
   ]
  },
  {
   "cell_type": "code",
   "execution_count": 4,
   "metadata": {},
   "outputs": [],
   "source": [
    "g.delete_all()"
   ]
  },
  {
   "cell_type": "code",
   "execution_count": 5,
   "metadata": {},
   "outputs": [],
   "source": [
    "n1 = g.note('Red stones')\n",
    "n2 = g.note('Yellow stones')\n",
    "n3 = g.note('White stones')\n",
    "n4 = g.note('Green gems')\n",
    "n5 = g.note('Ruby')\n",
    "n6 = g.note('Diamond')"
   ]
  },
  {
   "cell_type": "code",
   "execution_count": 6,
   "metadata": {},
   "outputs": [
    {
     "data": {
      "text/plain": [
       "node-> {'title': 'Red stones', 'type': 'note', 'zone': 'std', '_id': ObjectId('5af8ca629dc1b22bec964a3a'), 'nid': '5af8ca629dc1b22bec964a3a'}"
      ]
     },
     "execution_count": 6,
     "metadata": {},
     "output_type": "execute_result"
    }
   ],
   "source": [
    "n1.clo(n2).clo(n3)"
   ]
  },
  {
   "cell_type": "code",
   "execution_count": 7,
   "metadata": {},
   "outputs": [
    {
     "data": {
      "text/plain": [
       "node-> {'title': 'Yellow stones', 'type': 'note', 'zone': 'std', '_id': ObjectId('5af8ca629dc1b22bec964a3b'), 'nid': '5af8ca629dc1b22bec964a3b'}"
      ]
     },
     "execution_count": 7,
     "metadata": {},
     "output_type": "execute_result"
    }
   ],
   "source": [
    "n2.clo(n4).clo(n5)"
   ]
  },
  {
   "cell_type": "code",
   "execution_count": 8,
   "metadata": {},
   "outputs": [
    {
     "data": {
      "text/plain": [
       "node-> {'title': 'Green gems', 'type': 'note', 'zone': 'std', '_id': ObjectId('5af8ca629dc1b22bec964a3d'), 'nid': '5af8ca629dc1b22bec964a3d'}"
      ]
     },
     "execution_count": 8,
     "metadata": {},
     "output_type": "execute_result"
    }
   ],
   "source": [
    "n4.clo(n6)"
   ]
  },
  {
   "cell_type": "code",
   "execution_count": 9,
   "metadata": {},
   "outputs": [
    {
     "data": {
      "text/plain": [
       "(0,\n",
       " {'5af8ca629dc1b22bec964a3b', '5af8ca629dc1b22bec964a3c'},\n",
       " [{'cid': 3,\n",
       "   'type': 'STD',\n",
       "   'st': 50,\n",
       "   'src': '5af8ca629dc1b22bec964a3a',\n",
       "   'dest': '5af8ca629dc1b22bec964a3c'},\n",
       "  {'cid': 2,\n",
       "   'type': 'STD',\n",
       "   'st': 50,\n",
       "   'src': '5af8ca629dc1b22bec964a3a',\n",
       "   'dest': '5af8ca629dc1b22bec964a3b'}])"
      ]
     },
     "execution_count": 9,
     "metadata": {},
     "output_type": "execute_result"
    }
   ],
   "source": [
    "n1.ftree()"
   ]
  },
  {
   "cell_type": "code",
   "execution_count": null,
   "metadata": {},
   "outputs": [],
   "source": []
  }
 ],
 "metadata": {
  "kernelspec": {
   "display_name": "Python 3",
   "language": "python",
   "name": "python3"
  },
  "language_info": {
   "codemirror_mode": {
    "name": "ipython",
    "version": 3
   },
   "file_extension": ".py",
   "mimetype": "text/x-python",
   "name": "python",
   "nbconvert_exporter": "python",
   "pygments_lexer": "ipython3",
   "version": "3.6.5"
  }
 },
 "nbformat": 4,
 "nbformat_minor": 2
}
