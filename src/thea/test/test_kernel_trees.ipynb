{
 "cells": [
  {
   "cell_type": "code",
   "execution_count": 1,
   "metadata": {},
   "outputs": [],
   "source": [
    "import sys\n",
    "sys.path.append('../..')\n",
    "import os\n",
    "os.environ['thea_server'] = '192.168.1.118'"
   ]
  },
  {
   "cell_type": "code",
   "execution_count": null,
   "metadata": {},
   "outputs": [],
   "source": []
  },
  {
   "cell_type": "code",
   "execution_count": 2,
   "metadata": {},
   "outputs": [
    {
     "name": "stdout",
     "output_type": "stream",
     "text": [
      "Connecting to Neo4j at bolt://192.168.1.118\n",
      "Connected to Neo4j\n",
      "Connecting to MongoDB at 192.168.1.118:27017\n",
      "Connected to MongoDB\n"
     ]
    }
   ],
   "source": [
    "import thea.core.kernel as k"
   ]
  },
  {
   "cell_type": "code",
   "execution_count": 3,
   "metadata": {},
   "outputs": [
    {
     "name": "stdout",
     "output_type": "stream",
     "text": [
      "Graph object initialized\n"
     ]
    }
   ],
   "source": [
    "g = k.Graph()"
   ]
  },
  {
   "cell_type": "code",
   "execution_count": 4,
   "metadata": {},
   "outputs": [
    {
     "data": {
      "text/plain": [
       "[node-> {'title': 'Red stones', 'type': 'note', 'zone': 'std', 'nid': '5afd32d21807983c849dd80f'},\n",
       " node-> {'title': 'Yellow stones', 'type': 'note', 'zone': 'std', 'nid': '5afd32d21807983c849dd810'},\n",
       " node-> {'title': 'White stones', 'type': 'idea', 'zone': 'std', 'nid': '5afd32d21807983c849dd811'},\n",
       " node-> {'title': 'Green gems', 'type': 'th', 'zone': 'std', 'nid': '5afd32d21807983c849dd812'},\n",
       " node-> {'title': 'Ruby', 'type': 'idea', 'zone': 'std', 'nid': '5afd32d21807983c849dd813'},\n",
       " node-> {'title': 'Diamond', 'type': 'note', 'zone': 'std', 'nid': '5afd32d21807983c849dd814'}]"
      ]
     },
     "execution_count": 4,
     "metadata": {},
     "output_type": "execute_result"
    }
   ],
   "source": [
    "g.f()"
   ]
  },
  {
   "cell_type": "code",
   "execution_count": 5,
   "metadata": {},
   "outputs": [],
   "source": [
    "g.delete_all()"
   ]
  },
  {
   "cell_type": "code",
   "execution_count": 6,
   "metadata": {},
   "outputs": [],
   "source": [
    "n1 = g.note('Red stones')\n",
    "n2 = g.note('Yellow stones')\n",
    "n3 = g.idea('White stones')\n",
    "n4 = g.thought('Green gems')\n",
    "n5 = g.idea('Ruby')\n",
    "n6 = g.note('Diamond')"
   ]
  },
  {
   "cell_type": "code",
   "execution_count": 7,
   "metadata": {},
   "outputs": [
    {
     "data": {
      "text/plain": [
       "node-> {'title': 'Red stones', 'type': 'note', 'nid': '5afd34121807983dd04e6957'}"
      ]
     },
     "execution_count": 7,
     "metadata": {},
     "output_type": "execute_result"
    }
   ],
   "source": [
    "n1.clo(n2).clo(n3)"
   ]
  },
  {
   "cell_type": "code",
   "execution_count": 8,
   "metadata": {},
   "outputs": [
    {
     "data": {
      "text/plain": [
       "node-> {'title': 'Yellow stones', 'type': 'note', 'nid': '5afd34121807983dd04e6958'}"
      ]
     },
     "execution_count": 8,
     "metadata": {},
     "output_type": "execute_result"
    }
   ],
   "source": [
    "n2.clo(n4,20,'like').clo(n5,80,'ext')"
   ]
  },
  {
   "cell_type": "code",
   "execution_count": 9,
   "metadata": {},
   "outputs": [
    {
     "data": {
      "text/plain": [
       "node-> {'title': 'Green gems', 'type': 'th', 'nid': '5afd34121807983dd04e695a'}"
      ]
     },
     "execution_count": 9,
     "metadata": {},
     "output_type": "execute_result"
    }
   ],
   "source": [
    "n4.clo(n6)"
   ]
  },
  {
   "cell_type": "code",
   "execution_count": 10,
   "metadata": {},
   "outputs": [
    {
     "data": {
      "text/plain": [
       "conn-> {'type': 'std', 'st': 50, 'cid': 310, 'src': '5afd34121807983dd04e6957', 'dest': '5afd34121807983dd04e6958'}"
      ]
     },
     "execution_count": 10,
     "metadata": {},
     "output_type": "execute_result"
    }
   ],
   "source": [
    "n1.fol(n2)"
   ]
  },
  {
   "cell_type": "code",
   "execution_count": 11,
   "metadata": {},
   "outputs": [
    {
     "data": {
      "text/plain": [
       "(set(), [])"
      ]
     },
     "execution_count": 11,
     "metadata": {},
     "output_type": "execute_result"
    }
   ],
   "source": [
    "n1.ufonids('like')"
   ]
  },
  {
   "cell_type": "code",
   "execution_count": 12,
   "metadata": {},
   "outputs": [
    {
     "data": {
      "text/plain": [
       "({'5afd34121807983dd04e6958', '5afd34121807983dd04e6959'},\n",
       " [{'cid': 926,\n",
       "   'type': 'std',\n",
       "   'st': 50,\n",
       "   'src': '5afd34121807983dd04e6957',\n",
       "   'dest': '5afd34121807983dd04e6959'},\n",
       "  {'cid': 925,\n",
       "   'type': 'std',\n",
       "   'st': 50,\n",
       "   'src': '5afd34121807983dd04e6957',\n",
       "   'dest': '5afd34121807983dd04e6958'}])"
      ]
     },
     "execution_count": 12,
     "metadata": {},
     "output_type": "execute_result"
    }
   ],
   "source": [
    "n1.ufonids()"
   ]
  },
  {
   "cell_type": "code",
   "execution_count": 13,
   "metadata": {},
   "outputs": [
    {
     "data": {
      "text/plain": [
       "({'5afd34121807983dd04e6958', '5afd34121807983dd04e6959'},\n",
       " [{'cid': 926,\n",
       "   'type': 'std',\n",
       "   'st': 50,\n",
       "   'src': '5afd34121807983dd04e6957',\n",
       "   'dest': '5afd34121807983dd04e6959'},\n",
       "  {'cid': 925,\n",
       "   'type': 'std',\n",
       "   'st': 50,\n",
       "   'src': '5afd34121807983dd04e6957',\n",
       "   'dest': '5afd34121807983dd04e6958'}])"
      ]
     },
     "execution_count": 13,
     "metadata": {},
     "output_type": "execute_result"
    }
   ],
   "source": [
    "n1.ufotree('std')"
   ]
  },
  {
   "cell_type": "code",
   "execution_count": 14,
   "metadata": {},
   "outputs": [
    {
     "data": {
      "text/plain": [
       "({'5afd34121807983dd04e6958',\n",
       "  '5afd34121807983dd04e6959',\n",
       "  '5afd34121807983dd04e695a',\n",
       "  '5afd34121807983dd04e695b',\n",
       "  '5afd34121807983dd04e695c'},\n",
       " [{'cid': 926,\n",
       "   'type': 'std',\n",
       "   'st': 50,\n",
       "   'src': '5afd34121807983dd04e6957',\n",
       "   'dest': '5afd34121807983dd04e6959'},\n",
       "  {'cid': 925,\n",
       "   'type': 'std',\n",
       "   'st': 50,\n",
       "   'src': '5afd34121807983dd04e6957',\n",
       "   'dest': '5afd34121807983dd04e6958'},\n",
       "  {'cid': 928,\n",
       "   'type': 'ext',\n",
       "   'st': 80,\n",
       "   'src': '5afd34121807983dd04e6958',\n",
       "   'dest': '5afd34121807983dd04e695b'},\n",
       "  {'cid': 927,\n",
       "   'type': 'like',\n",
       "   'st': 20,\n",
       "   'src': '5afd34121807983dd04e6958',\n",
       "   'dest': '5afd34121807983dd04e695a'},\n",
       "  {'cid': 929,\n",
       "   'type': 'std',\n",
       "   'st': 50,\n",
       "   'src': '5afd34121807983dd04e695a',\n",
       "   'dest': '5afd34121807983dd04e695c'}])"
      ]
     },
     "execution_count": 14,
     "metadata": {},
     "output_type": "execute_result"
    }
   ],
   "source": [
    "n1.ufotree()"
   ]
  },
  {
   "cell_type": "code",
   "execution_count": 15,
   "metadata": {},
   "outputs": [
    {
     "data": {
      "text/plain": [
       "({'5afd34121807983dd04e6958', '5afd34121807983dd04e6959'},\n",
       " [{'cid': 926,\n",
       "   'type': 'std',\n",
       "   'st': 50,\n",
       "   'src': '5afd34121807983dd04e6957',\n",
       "   'dest': '5afd34121807983dd04e6959'},\n",
       "  {'cid': 925,\n",
       "   'type': 'std',\n",
       "   'st': 50,\n",
       "   'src': '5afd34121807983dd04e6957',\n",
       "   'dest': '5afd34121807983dd04e6958'}])"
      ]
     },
     "execution_count": 15,
     "metadata": {},
     "output_type": "execute_result"
    }
   ],
   "source": [
    "n1.ufotree('std')"
   ]
  },
  {
   "cell_type": "code",
   "execution_count": 16,
   "metadata": {},
   "outputs": [
    {
     "data": {
      "text/plain": [
       "[node-> {'title': 'Yellow stones', 'type': 'note', 'zone': 'std', 'nid': '5afd34121807983dd04e6958'},\n",
       " node-> {'title': 'White stones', 'type': 'idea', 'zone': 'std', 'nid': '5afd34121807983dd04e6959'}]"
      ]
     },
     "execution_count": 16,
     "metadata": {},
     "output_type": "execute_result"
    }
   ],
   "source": [
    "n1.fons()"
   ]
  },
  {
   "cell_type": "code",
   "execution_count": 17,
   "metadata": {},
   "outputs": [
    {
     "data": {
      "text/plain": [
       "[node-> {'title': 'Yellow stones', 'type': 'note', 'zone': 'std', 'nid': '5afd34121807983dd04e6958'},\n",
       " node-> {'title': 'White stones', 'type': 'idea', 'zone': 'std', 'nid': '5afd34121807983dd04e6959'}]"
      ]
     },
     "execution_count": 17,
     "metadata": {},
     "output_type": "execute_result"
    }
   ],
   "source": [
    "n1.grow().onodes"
   ]
  },
  {
   "cell_type": "code",
   "execution_count": 18,
   "metadata": {},
   "outputs": [
    {
     "data": {
      "text/plain": [
       "node-> {'title': 'Red stones', 'type': 'note', 'nid': '5afd34121807983dd04e6957'}"
      ]
     },
     "execution_count": 18,
     "metadata": {},
     "output_type": "execute_result"
    }
   ],
   "source": [
    "n1.growt()"
   ]
  },
  {
   "cell_type": "code",
   "execution_count": 19,
   "metadata": {},
   "outputs": [
    {
     "data": {
      "text/plain": [
       "node-> {'title': 'Red stones', 'type': 'note', 'nid': '5afd34121807983dd04e6957'}"
      ]
     },
     "execution_count": 19,
     "metadata": {},
     "output_type": "execute_result"
    }
   ],
   "source": [
    "n1"
   ]
  },
  {
   "cell_type": "code",
   "execution_count": 20,
   "metadata": {},
   "outputs": [
    {
     "data": {
      "text/plain": [
       "[node-> {'title': 'Yellow stones', 'type': 'note', 'zone': 'std', 'nid': '5afd34121807983dd04e6958'},\n",
       " node-> {'title': 'White stones', 'type': 'idea', 'zone': 'std', 'nid': '5afd34121807983dd04e6959'}]"
      ]
     },
     "execution_count": 20,
     "metadata": {},
     "output_type": "execute_result"
    }
   ],
   "source": [
    "n1.onodes"
   ]
  },
  {
   "cell_type": "code",
   "execution_count": 21,
   "metadata": {},
   "outputs": [
    {
     "data": {
      "text/plain": [
       "[node-> {'title': 'Green gems', 'type': 'th', 'zone': 'std', 'nid': '5afd34121807983dd04e695a'},\n",
       " node-> {'title': 'Ruby', 'type': 'idea', 'zone': 'std', 'nid': '5afd34121807983dd04e695b'}]"
      ]
     },
     "execution_count": 21,
     "metadata": {},
     "output_type": "execute_result"
    }
   ],
   "source": [
    "n1.onodes[0].onodes"
   ]
  },
  {
   "cell_type": "code",
   "execution_count": 22,
   "metadata": {},
   "outputs": [
    {
     "data": {
      "text/plain": [
       "[node-> {'title': 'Diamond', 'type': 'note', 'zone': 'std', 'nid': '5afd34121807983dd04e695c'}]"
      ]
     },
     "execution_count": 22,
     "metadata": {},
     "output_type": "execute_result"
    }
   ],
   "source": [
    "n1.onodes[0].onodes[0].onodes"
   ]
  },
  {
   "cell_type": "code",
   "execution_count": 23,
   "metadata": {},
   "outputs": [
    {
     "data": {
      "text/plain": [
       "[]"
      ]
     },
     "execution_count": 23,
     "metadata": {},
     "output_type": "execute_result"
    }
   ],
   "source": [
    "n1.onodes[0].onodes[0].onodes[0].onodes"
   ]
  },
  {
   "cell_type": "code",
   "execution_count": 24,
   "metadata": {},
   "outputs": [
    {
     "data": {
      "text/plain": [
       "[node-> {'title': 'Yellow stones', 'type': 'note', 'zone': 'std', 'nid': '5afd34121807983dd04e6958'},\n",
       " node-> {'title': 'White stones', 'type': 'idea', 'zone': 'std', 'nid': '5afd34121807983dd04e6959'}]"
      ]
     },
     "execution_count": 24,
     "metadata": {},
     "output_type": "execute_result"
    }
   ],
   "source": [
    "n1.geto()"
   ]
  },
  {
   "cell_type": "code",
   "execution_count": 25,
   "metadata": {},
   "outputs": [
    {
     "data": {
      "text/plain": [
       "node-> {'title': 'Red stones', 'type': 'note', 'nid': '5afd34121807983dd04e6957'}"
      ]
     },
     "execution_count": 25,
     "metadata": {},
     "output_type": "execute_result"
    }
   ],
   "source": [
    "n1.clear()"
   ]
  },
  {
   "cell_type": "code",
   "execution_count": 26,
   "metadata": {},
   "outputs": [
    {
     "data": {
      "text/plain": [
       "[node-> {'title': 'Yellow stones', 'type': 'note', 'zone': 'std', 'nid': '5afd34121807983dd04e6958'},\n",
       " node-> {'title': 'White stones', 'type': 'idea', 'zone': 'std', 'nid': '5afd34121807983dd04e6959'}]"
      ]
     },
     "execution_count": 26,
     "metadata": {},
     "output_type": "execute_result"
    }
   ],
   "source": [
    "n1.growt().geto()"
   ]
  }
 ],
 "metadata": {
  "kernelspec": {
   "display_name": "Python 3",
   "language": "python",
   "name": "python3"
  },
  "language_info": {
   "codemirror_mode": {
    "name": "ipython",
    "version": 3
   },
   "file_extension": ".py",
   "mimetype": "text/x-python",
   "name": "python",
   "nbconvert_exporter": "python",
   "pygments_lexer": "ipython3",
   "version": "3.6.5"
  }
 },
 "nbformat": 4,
 "nbformat_minor": 2
}
