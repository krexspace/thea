{
 "cells": [
  {
   "cell_type": "code",
   "execution_count": 1,
   "metadata": {},
   "outputs": [],
   "source": [
    "import sys\n",
    "sys.path.append('../..')\n",
    "import os\n",
    "os.environ['thea_server'] = '192.168.1.199'"
   ]
  },
  {
   "cell_type": "code",
   "execution_count": null,
   "metadata": {},
   "outputs": [],
   "source": []
  },
  {
   "cell_type": "code",
   "execution_count": 2,
   "metadata": {},
   "outputs": [
    {
     "name": "stdout",
     "output_type": "stream",
     "text": [
      "Connecting to Neo4j at bolt://192.168.1.199\n",
      "Connected to Neo4j\n",
      "Connecting to MongoDB at 192.168.1.199:27017\n",
      "Connected to MongoDB\n"
     ]
    }
   ],
   "source": [
    "import thea.core.kernel2 as k"
   ]
  },
  {
   "cell_type": "code",
   "execution_count": 3,
   "metadata": {},
   "outputs": [
    {
     "name": "stdout",
     "output_type": "stream",
     "text": [
      "Graph object initialized\n"
     ]
    }
   ],
   "source": [
    "g = k.Graph()"
   ]
  },
  {
   "cell_type": "code",
   "execution_count": 4,
   "metadata": {},
   "outputs": [
    {
     "name": "stdout",
     "output_type": "stream",
     "text": [
      "In g.f()\n",
      "In cmd_find_by: {}\n",
      "{}\n"
     ]
    },
    {
     "data": {
      "text/plain": [
       "[node-> {'title': 'Red stones', 'type': 'note', 'zone': 'std', 'nid': '5b8ae1b09dc1b21afc7e300f'},\n",
       " node-> {'title': 'Yellow stones', 'type': 'note', 'zone': 'std', 'nid': '5b8ae1b09dc1b21afc7e3010'},\n",
       " node-> {'title': 'White stones', 'type': 'idea', 'zone': 'std', 'nid': '5b8ae1b09dc1b21afc7e3011'},\n",
       " node-> {'title': 'Green gems', 'type': 'th', 'zone': 'std', 'nid': '5b8ae1b09dc1b21afc7e3012'},\n",
       " node-> {'title': 'Ruby', 'type': 'idea', 'zone': 'std', 'nid': '5b8ae1b09dc1b21afc7e3013'},\n",
       " node-> {'title': 'Diamond', 'type': 'note', 'zone': 'std', 'nid': '5b8ae1b09dc1b21afc7e3014'}]"
      ]
     },
     "execution_count": 4,
     "metadata": {},
     "output_type": "execute_result"
    }
   ],
   "source": [
    "g.find()"
   ]
  },
  {
   "cell_type": "code",
   "execution_count": 5,
   "metadata": {},
   "outputs": [
    {
     "name": "stdout",
     "output_type": "stream",
     "text": [
      "delete_all\n",
      "In cmd_delete_all: None\n"
     ]
    }
   ],
   "source": [
    "g.delete_all()"
   ]
  },
  {
   "cell_type": "code",
   "execution_count": 6,
   "metadata": {},
   "outputs": [
    {
     "name": "stdout",
     "output_type": "stream",
     "text": [
      "In cmd_create_node: {'title': 'Red stones', 'type': 'note'}\n",
      "In cmd_create_node: {'title': 'Yellow stones', 'type': 'note'}\n",
      "In cmd_create_node: {'title': 'White stones', 'type': 'idea'}\n",
      "In cmd_create_node: {'title': 'Green gems', 'type': 'th'}\n",
      "In cmd_create_node: {'title': 'Ruby', 'type': 'idea'}\n",
      "In cmd_create_node: {'title': 'Diamond', 'type': 'note'}\n"
     ]
    }
   ],
   "source": [
    "n1 = g.note('Red stones')\n",
    "n2 = g.note('Yellow stones')\n",
    "n3 = g.idea('White stones')\n",
    "n4 = g.thought('Green gems')\n",
    "n5 = g.idea('Ruby')\n",
    "n6 = g.note('Diamond')"
   ]
  },
  {
   "cell_type": "code",
   "execution_count": 7,
   "metadata": {},
   "outputs": [
    {
     "name": "stdout",
     "output_type": "stream",
     "text": [
      "{'type': 'std', 'st': 50}\n",
      "{'type': 'std', 'st': 50}\n"
     ]
    },
    {
     "data": {
      "text/plain": [
       "node-> {'title': 'Red stones', 'type': 'note', 'nid': '5b8ae1bc9dc1b271d825d7ab'}"
      ]
     },
     "execution_count": 7,
     "metadata": {},
     "output_type": "execute_result"
    }
   ],
   "source": [
    "n1.conn_out(n2).conn_out(n3)"
   ]
  },
  {
   "cell_type": "code",
   "execution_count": 8,
   "metadata": {},
   "outputs": [
    {
     "name": "stdout",
     "output_type": "stream",
     "text": [
      "{'type': 'like', 'st': 20}\n",
      "{'type': 'ext', 'st': 80}\n"
     ]
    },
    {
     "data": {
      "text/plain": [
       "node-> {'title': 'Yellow stones', 'type': 'note', 'nid': '5b8ae1bc9dc1b271d825d7ac'}"
      ]
     },
     "execution_count": 8,
     "metadata": {},
     "output_type": "execute_result"
    }
   ],
   "source": [
    "n2.conn_out(n4,20,'like').conn_out(n5,80,'ext')"
   ]
  },
  {
   "cell_type": "code",
   "execution_count": 9,
   "metadata": {},
   "outputs": [
    {
     "name": "stdout",
     "output_type": "stream",
     "text": [
      "{'type': 'std', 'st': 50}\n"
     ]
    },
    {
     "data": {
      "text/plain": [
       "node-> {'title': 'Green gems', 'type': 'th', 'nid': '5b8ae1bc9dc1b271d825d7ae'}"
      ]
     },
     "execution_count": 9,
     "metadata": {},
     "output_type": "execute_result"
    }
   ],
   "source": [
    "n4.conn_out(n6)"
   ]
  },
  {
   "cell_type": "code",
   "execution_count": 10,
   "metadata": {},
   "outputs": [
    {
     "data": {
      "text/plain": [
       "conn-> {'type': 'std', 'st': 50, 'cid': 50, 'src': '5b8ae1bc9dc1b271d825d7ab', 'dest': '5b8ae1bc9dc1b271d825d7ac'}"
      ]
     },
     "execution_count": 10,
     "metadata": {},
     "output_type": "execute_result"
    }
   ],
   "source": [
    "n1.get_out_conn(n2)"
   ]
  },
  {
   "cell_type": "code",
   "execution_count": 11,
   "metadata": {},
   "outputs": [
    {
     "data": {
      "text/plain": [
       "(set(), [])"
      ]
     },
     "execution_count": 11,
     "metadata": {},
     "output_type": "execute_result"
    }
   ],
   "source": [
    "n1.fetch_child_nodes_and_conns('like')"
   ]
  },
  {
   "cell_type": "code",
   "execution_count": 12,
   "metadata": {},
   "outputs": [
    {
     "data": {
      "text/plain": [
       "({'5b8ae1bc9dc1b271d825d7ac', '5b8ae1bc9dc1b271d825d7ad'},\n",
       " [{'cid': 531,\n",
       "   'type': 'std',\n",
       "   'st': 50,\n",
       "   'src': '5b8ae1bc9dc1b271d825d7ab',\n",
       "   'dest': '5b8ae1bc9dc1b271d825d7ad'},\n",
       "  {'cid': 530,\n",
       "   'type': 'std',\n",
       "   'st': 50,\n",
       "   'src': '5b8ae1bc9dc1b271d825d7ab',\n",
       "   'dest': '5b8ae1bc9dc1b271d825d7ac'}])"
      ]
     },
     "execution_count": 12,
     "metadata": {},
     "output_type": "execute_result"
    }
   ],
   "source": [
    "n1.fetch_child_nodes_and_conns()"
   ]
  },
  {
   "cell_type": "code",
   "execution_count": 13,
   "metadata": {},
   "outputs": [
    {
     "data": {
      "text/plain": [
       "({'5b8ae1bc9dc1b271d825d7ac', '5b8ae1bc9dc1b271d825d7ad'},\n",
       " [{'cid': 531,\n",
       "   'type': 'std',\n",
       "   'st': 50,\n",
       "   'src': '5b8ae1bc9dc1b271d825d7ab',\n",
       "   'dest': '5b8ae1bc9dc1b271d825d7ad'},\n",
       "  {'cid': 530,\n",
       "   'type': 'std',\n",
       "   'st': 50,\n",
       "   'src': '5b8ae1bc9dc1b271d825d7ab',\n",
       "   'dest': '5b8ae1bc9dc1b271d825d7ac'}])"
      ]
     },
     "execution_count": 13,
     "metadata": {},
     "output_type": "execute_result"
    }
   ],
   "source": [
    "n1.fetch_node_tree('std')"
   ]
  },
  {
   "cell_type": "code",
   "execution_count": 14,
   "metadata": {},
   "outputs": [
    {
     "data": {
      "text/plain": [
       "({'5b8ae1bc9dc1b271d825d7ac',\n",
       "  '5b8ae1bc9dc1b271d825d7ad',\n",
       "  '5b8ae1bc9dc1b271d825d7ae',\n",
       "  '5b8ae1bc9dc1b271d825d7af',\n",
       "  '5b8ae1bc9dc1b271d825d7b0'},\n",
       " [{'cid': 531,\n",
       "   'type': 'std',\n",
       "   'st': 50,\n",
       "   'src': '5b8ae1bc9dc1b271d825d7ab',\n",
       "   'dest': '5b8ae1bc9dc1b271d825d7ad'},\n",
       "  {'cid': 530,\n",
       "   'type': 'std',\n",
       "   'st': 50,\n",
       "   'src': '5b8ae1bc9dc1b271d825d7ab',\n",
       "   'dest': '5b8ae1bc9dc1b271d825d7ac'},\n",
       "  {'cid': 533,\n",
       "   'type': 'ext',\n",
       "   'st': 80,\n",
       "   'src': '5b8ae1bc9dc1b271d825d7ac',\n",
       "   'dest': '5b8ae1bc9dc1b271d825d7af'},\n",
       "  {'cid': 532,\n",
       "   'type': 'like',\n",
       "   'st': 20,\n",
       "   'src': '5b8ae1bc9dc1b271d825d7ac',\n",
       "   'dest': '5b8ae1bc9dc1b271d825d7ae'},\n",
       "  {'cid': 534,\n",
       "   'type': 'std',\n",
       "   'st': 50,\n",
       "   'src': '5b8ae1bc9dc1b271d825d7ae',\n",
       "   'dest': '5b8ae1bc9dc1b271d825d7b0'}])"
      ]
     },
     "execution_count": 14,
     "metadata": {},
     "output_type": "execute_result"
    }
   ],
   "source": [
    "n1.fetch_node_tree()"
   ]
  },
  {
   "cell_type": "code",
   "execution_count": 15,
   "metadata": {},
   "outputs": [
    {
     "data": {
      "text/plain": [
       "({'5b8ae1bc9dc1b271d825d7ac', '5b8ae1bc9dc1b271d825d7ad'},\n",
       " [{'cid': 531,\n",
       "   'type': 'std',\n",
       "   'st': 50,\n",
       "   'src': '5b8ae1bc9dc1b271d825d7ab',\n",
       "   'dest': '5b8ae1bc9dc1b271d825d7ad'},\n",
       "  {'cid': 530,\n",
       "   'type': 'std',\n",
       "   'st': 50,\n",
       "   'src': '5b8ae1bc9dc1b271d825d7ab',\n",
       "   'dest': '5b8ae1bc9dc1b271d825d7ac'}])"
      ]
     },
     "execution_count": 15,
     "metadata": {},
     "output_type": "execute_result"
    }
   ],
   "source": [
    "n1.fetch_node_tree('std')"
   ]
  },
  {
   "cell_type": "code",
   "execution_count": 16,
   "metadata": {},
   "outputs": [
    {
     "data": {
      "text/plain": [
       "[node-> {'title': 'Yellow stones', 'type': 'note', 'zone': 'std', 'nid': '5b8ae1bc9dc1b271d825d7ac'},\n",
       " node-> {'title': 'White stones', 'type': 'idea', 'zone': 'std', 'nid': '5b8ae1bc9dc1b271d825d7ad'}]"
      ]
     },
     "execution_count": 16,
     "metadata": {},
     "output_type": "execute_result"
    }
   ],
   "source": [
    "n1.get_out_nodes('std')"
   ]
  },
  {
   "cell_type": "code",
   "execution_count": 17,
   "metadata": {},
   "outputs": [
    {
     "data": {
      "text/plain": [
       "[node-> {'title': 'Yellow stones', 'type': 'note', 'zone': 'std', 'nid': '5b8ae1bc9dc1b271d825d7ac'},\n",
       " node-> {'title': 'White stones', 'type': 'idea', 'zone': 'std', 'nid': '5b8ae1bc9dc1b271d825d7ad'}]"
      ]
     },
     "execution_count": 17,
     "metadata": {},
     "output_type": "execute_result"
    }
   ],
   "source": [
    "n1.grow().onodes"
   ]
  },
  {
   "cell_type": "code",
   "execution_count": 18,
   "metadata": {},
   "outputs": [
    {
     "data": {
      "text/plain": [
       "node-> {'title': 'Red stones', 'type': 'note', 'nid': '5b8ae1bc9dc1b271d825d7ab'}, num onodes-> 2"
      ]
     },
     "execution_count": 18,
     "metadata": {},
     "output_type": "execute_result"
    }
   ],
   "source": [
    "n1.grow_deep()"
   ]
  },
  {
   "cell_type": "code",
   "execution_count": 19,
   "metadata": {},
   "outputs": [
    {
     "data": {
      "text/plain": [
       "node-> {'title': 'Yellow stones', 'type': 'note', 'zone': 'std', 'nid': '5b8ae1bc9dc1b271d825d7ac'}, num onodes-> 1"
      ]
     },
     "execution_count": 19,
     "metadata": {},
     "output_type": "execute_result"
    }
   ],
   "source": [
    "n1.clear_out_nodes().grow().get_out_nodes()[0].grow('like')"
   ]
  },
  {
   "cell_type": "code",
   "execution_count": 20,
   "metadata": {},
   "outputs": [
    {
     "data": {
      "text/plain": [
       "node-> {'title': 'Red stones', 'type': 'note', 'nid': '5b8ae1bc9dc1b271d825d7ab'}, num onodes-> 2"
      ]
     },
     "execution_count": 20,
     "metadata": {},
     "output_type": "execute_result"
    }
   ],
   "source": [
    "n1"
   ]
  },
  {
   "cell_type": "code",
   "execution_count": 21,
   "metadata": {},
   "outputs": [
    {
     "data": {
      "text/plain": [
       "[node-> {'title': 'Yellow stones', 'type': 'note', 'zone': 'std', 'nid': '5b8ae1bc9dc1b271d825d7ac'},\n",
       " node-> {'title': 'White stones', 'type': 'idea', 'zone': 'std', 'nid': '5b8ae1bc9dc1b271d825d7ad'}]"
      ]
     },
     "execution_count": 21,
     "metadata": {},
     "output_type": "execute_result"
    }
   ],
   "source": [
    "n1.onodes"
   ]
  },
  {
   "cell_type": "code",
   "execution_count": 22,
   "metadata": {},
   "outputs": [],
   "source": [
    "n1.onodes[0].onodes"
   ]
  },
  {
   "cell_type": "code",
   "execution_count": 23,
   "metadata": {},
   "outputs": [],
   "source": [
    "#n1.onodes[0].onodes[0].onodes"
   ]
  },
  {
   "cell_type": "code",
   "execution_count": 24,
   "metadata": {},
   "outputs": [],
   "source": [
    "#n1.onodes[0].onodes[0].onodes"
   ]
  },
  {
   "cell_type": "code",
   "execution_count": 25,
   "metadata": {},
   "outputs": [
    {
     "data": {
      "text/plain": [
       "[node-> {'title': 'Yellow stones', 'type': 'note', 'zone': 'std', 'nid': '5b8ae1bc9dc1b271d825d7ac'},\n",
       " node-> {'title': 'White stones', 'type': 'idea', 'zone': 'std', 'nid': '5b8ae1bc9dc1b271d825d7ad'}]"
      ]
     },
     "execution_count": 25,
     "metadata": {},
     "output_type": "execute_result"
    }
   ],
   "source": [
    "n1.get_out_nodes()"
   ]
  },
  {
   "cell_type": "code",
   "execution_count": 26,
   "metadata": {},
   "outputs": [
    {
     "data": {
      "text/plain": [
       "node-> {'title': 'Red stones', 'type': 'note', 'nid': '5b8ae1bc9dc1b271d825d7ab'}"
      ]
     },
     "execution_count": 26,
     "metadata": {},
     "output_type": "execute_result"
    }
   ],
   "source": [
    "n1.clear_out_nodes()"
   ]
  },
  {
   "cell_type": "code",
   "execution_count": 27,
   "metadata": {},
   "outputs": [
    {
     "data": {
      "text/plain": [
       "[node-> {'title': 'Diamond', 'type': 'note', 'zone': 'std', 'nid': '5b8ae1bc9dc1b271d825d7b0'}]"
      ]
     },
     "execution_count": 27,
     "metadata": {},
     "output_type": "execute_result"
    }
   ],
   "source": [
    "n1.grow_deep().get_out_nodes()[0].get_out_nodes()[0].get_out_nodes()"
   ]
  },
  {
   "cell_type": "code",
   "execution_count": 28,
   "metadata": {},
   "outputs": [
    {
     "data": {
      "text/plain": [
       "node-> {'title': 'Red stones', 'type': 'note', 'nid': '5b8ae1bc9dc1b271d825d7ab'}"
      ]
     },
     "execution_count": 28,
     "metadata": {},
     "output_type": "execute_result"
    }
   ],
   "source": [
    "n1.clear_out_nodes()"
   ]
  },
  {
   "cell_type": "code",
   "execution_count": 29,
   "metadata": {},
   "outputs": [
    {
     "data": {
      "text/plain": [
       "[]"
      ]
     },
     "execution_count": 29,
     "metadata": {},
     "output_type": "execute_result"
    }
   ],
   "source": [
    "n1.grow().get_out_nodes()[0].grow().get_out_nodes()[0].grow().get_out_nodes()[0].grow().get_out_nodes()"
   ]
  },
  {
   "cell_type": "code",
   "execution_count": 30,
   "metadata": {},
   "outputs": [
    {
     "name": "stdout",
     "output_type": "stream",
     "text": [
      "node-> {'title': 'Red stones', 'type': 'note', 'nid': '5b8ae1bc9dc1b271d825d7ab'}, num onodes-> 2\n"
     ]
    },
    {
     "data": {
      "text/plain": [
       "node-> {'title': 'Red stones', 'type': 'note', 'nid': '5b8ae1bc9dc1b271d825d7ab'}, num onodes-> 2"
      ]
     },
     "execution_count": 30,
     "metadata": {},
     "output_type": "execute_result"
    }
   ],
   "source": [
    "n1.print()"
   ]
  },
  {
   "cell_type": "code",
   "execution_count": 31,
   "metadata": {},
   "outputs": [
    {
     "name": "stdout",
     "output_type": "stream",
     "text": [
      "In g.f()\n",
      "In cmd_find_by: {}\n",
      "{}\n"
     ]
    },
    {
     "data": {
      "text/plain": [
       "[node-> {'title': 'Red stones', 'type': 'note', 'zone': 'std', 'nid': '5b8ae1bc9dc1b271d825d7ab'},\n",
       " node-> {'title': 'Yellow stones', 'type': 'note', 'zone': 'std', 'nid': '5b8ae1bc9dc1b271d825d7ac'},\n",
       " node-> {'title': 'White stones', 'type': 'idea', 'zone': 'std', 'nid': '5b8ae1bc9dc1b271d825d7ad'},\n",
       " node-> {'title': 'Green gems', 'type': 'th', 'zone': 'std', 'nid': '5b8ae1bc9dc1b271d825d7ae'},\n",
       " node-> {'title': 'Ruby', 'type': 'idea', 'zone': 'std', 'nid': '5b8ae1bc9dc1b271d825d7af'},\n",
       " node-> {'title': 'Diamond', 'type': 'note', 'zone': 'std', 'nid': '5b8ae1bc9dc1b271d825d7b0'}]"
      ]
     },
     "execution_count": 31,
     "metadata": {},
     "output_type": "execute_result"
    }
   ],
   "source": [
    "g.find()"
   ]
  },
  {
   "cell_type": "code",
   "execution_count": null,
   "metadata": {},
   "outputs": [],
   "source": []
  }
 ],
 "metadata": {
  "kernelspec": {
   "display_name": "Python 3",
   "language": "python",
   "name": "python3"
  },
  "language_info": {
   "codemirror_mode": {
    "name": "ipython",
    "version": 3
   },
   "file_extension": ".py",
   "mimetype": "text/x-python",
   "name": "python",
   "nbconvert_exporter": "python",
   "pygments_lexer": "ipython3",
   "version": "3.6.5"
  }
 },
 "nbformat": 4,
 "nbformat_minor": 2
}
