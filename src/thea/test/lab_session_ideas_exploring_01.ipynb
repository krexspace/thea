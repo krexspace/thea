{
 "cells": [
  {
   "cell_type": "code",
   "execution_count": 1,
   "metadata": {},
   "outputs": [],
   "source": [
    "import sys\n",
    "sys.path.append('../..')\n",
    "import os\n",
    "os.environ['thea_server'] = '192.168.1.199'"
   ]
  },
  {
   "cell_type": "code",
   "execution_count": 2,
   "metadata": {},
   "outputs": [
    {
     "name": "stdout",
     "output_type": "stream",
     "text": [
      "Connecting to Neo4j at bolt://192.168.1.199\n",
      "Connected to Neo4j\n",
      "Connecting to MongoDB at 192.168.1.199:27017\n",
      "Connected to MongoDB\n"
     ]
    }
   ],
   "source": [
    "import thea.core.kernel2 as k"
   ]
  },
  {
   "cell_type": "code",
   "execution_count": 3,
   "metadata": {},
   "outputs": [
    {
     "name": "stdout",
     "output_type": "stream",
     "text": [
      "Graph object initialized\n"
     ]
    }
   ],
   "source": [
    "g = k.Graph()"
   ]
  },
  {
   "cell_type": "code",
   "execution_count": 4,
   "metadata": {},
   "outputs": [
    {
     "name": "stdout",
     "output_type": "stream",
     "text": [
      "delete_all\n",
      "In cmd_delete_all: None\n"
     ]
    }
   ],
   "source": [
    "g.delete_all()"
   ]
  },
  {
   "cell_type": "code",
   "execution_count": 5,
   "metadata": {},
   "outputs": [
    {
     "name": "stdout",
     "output_type": "stream",
     "text": [
      "In cmd_create_node: {'title': 'SESSION 1', 'type': 'sess', 'marker': ['ss1']}\n"
     ]
    }
   ],
   "source": [
    "sess = g.node_q('SESSION 1',type='sess',marker=['ss1'])"
   ]
  },
  {
   "cell_type": "code",
   "execution_count": 6,
   "metadata": {},
   "outputs": [
    {
     "data": {
      "text/plain": [
       "node-> {'title': 'SESSION 1', 'type': 'sess', 'marker': ['ss1'], 'nid': '5b8ae5119dc1b228243c3a1e'}"
      ]
     },
     "execution_count": 6,
     "metadata": {},
     "output_type": "execute_result"
    }
   ],
   "source": [
    "sess"
   ]
  },
  {
   "cell_type": "code",
   "execution_count": 7,
   "metadata": {},
   "outputs": [
    {
     "name": "stdout",
     "output_type": "stream",
     "text": [
      "In g.f()\n",
      "In cmd_find_by: {'marker': 'ss1'}\n",
      "{'marker': 'ss1'}\n"
     ]
    }
   ],
   "source": [
    "sess = g.find_one(marker='ss1')"
   ]
  },
  {
   "cell_type": "code",
   "execution_count": 8,
   "metadata": {},
   "outputs": [
    {
     "data": {
      "text/plain": [
       "node-> {'title': 'SESSION 1', 'type': 'sess', 'marker': ['ss1'], 'zone': 'std', 'nid': '5b8ae5119dc1b228243c3a1e'}"
      ]
     },
     "execution_count": 8,
     "metadata": {},
     "output_type": "execute_result"
    }
   ],
   "source": [
    "sess"
   ]
  },
  {
   "cell_type": "code",
   "execution_count": 9,
   "metadata": {},
   "outputs": [],
   "source": [
    "#sess.rm()"
   ]
  },
  {
   "cell_type": "code",
   "execution_count": 10,
   "metadata": {},
   "outputs": [
    {
     "name": "stdout",
     "output_type": "stream",
     "text": [
      "In cmd_create_node: {'marker': ['ss1_v1'], 'val': 100}\n"
     ]
    }
   ],
   "source": [
    "sv1 = g.node(marker=['ss1_v1'], val=100)"
   ]
  },
  {
   "cell_type": "code",
   "execution_count": 11,
   "metadata": {},
   "outputs": [
    {
     "data": {
      "text/plain": [
       "node-> {'marker': ['ss1_v1'], 'val': 100, 'nid': '5b8ae5119dc1b228243c3a1f'}"
      ]
     },
     "execution_count": 11,
     "metadata": {},
     "output_type": "execute_result"
    }
   ],
   "source": [
    "sv1"
   ]
  },
  {
   "cell_type": "code",
   "execution_count": 12,
   "metadata": {},
   "outputs": [
    {
     "name": "stdout",
     "output_type": "stream",
     "text": [
      "In cmd_create_node: {'marker': ['ss1_v1'], 'val': 200}\n"
     ]
    }
   ],
   "source": [
    "sv2 = g.node(marker=['ss1_v1'], val=200)"
   ]
  },
  {
   "cell_type": "code",
   "execution_count": 13,
   "metadata": {},
   "outputs": [
    {
     "name": "stdout",
     "output_type": "stream",
     "text": [
      "In g.f()\n",
      "In cmd_find_by: {'val': {'$lt': 250}}\n",
      "{'val': {'$lt': 250}}\n"
     ]
    },
    {
     "data": {
      "text/plain": [
       "[node-> {'marker': ['ss1_v1'], 'val': 100, 'type': 'th', 'zone': 'std', 'nid': '5b8ae5119dc1b228243c3a1f'},\n",
       " node-> {'marker': ['ss1_v1'], 'val': 200, 'type': 'th', 'zone': 'std', 'nid': '5b8ae5119dc1b228243c3a20'}]"
      ]
     },
     "execution_count": 13,
     "metadata": {},
     "output_type": "execute_result"
    }
   ],
   "source": [
    "g.find(val={'$lt':250})"
   ]
  },
  {
   "cell_type": "code",
   "execution_count": 14,
   "metadata": {},
   "outputs": [
    {
     "name": "stdout",
     "output_type": "stream",
     "text": [
      "{'type': 'std', 'st': 50}\n"
     ]
    },
    {
     "data": {
      "text/plain": [
       "node-> {'marker': ['ss1_v1'], 'val': 100, 'nid': '5b8ae5119dc1b228243c3a1f'}"
      ]
     },
     "execution_count": 14,
     "metadata": {},
     "output_type": "execute_result"
    }
   ],
   "source": [
    "sv1.conn_in(sv2)"
   ]
  },
  {
   "cell_type": "code",
   "execution_count": 15,
   "metadata": {},
   "outputs": [
    {
     "data": {
      "text/plain": [
       "node-> {'marker': ['ss1_v1'], 'val': 200, 'nid': '5b8ae5119dc1b228243c3a20'}, num onodes-> 1"
      ]
     },
     "execution_count": 15,
     "metadata": {},
     "output_type": "execute_result"
    }
   ],
   "source": [
    "sv2.grow()"
   ]
  },
  {
   "cell_type": "code",
   "execution_count": 16,
   "metadata": {},
   "outputs": [
    {
     "data": {
      "text/plain": [
       "[node-> {'marker': ['ss1_v1'], 'val': 100, 'type': 'th', 'zone': 'std', 'nid': '5b8ae5119dc1b228243c3a1f'}]"
      ]
     },
     "execution_count": 16,
     "metadata": {},
     "output_type": "execute_result"
    }
   ],
   "source": [
    "sv2.onodes"
   ]
  },
  {
   "cell_type": "code",
   "execution_count": 17,
   "metadata": {},
   "outputs": [
    {
     "name": "stdout",
     "output_type": "stream",
     "text": [
      "In cmd_create_node: {'obj': {'v1': 123, 'nest1': {'v2': 4545}}}\n"
     ]
    }
   ],
   "source": [
    "n2 = g.node(obj={'v1':123,'nest1': {'v2':4545}})"
   ]
  },
  {
   "cell_type": "code",
   "execution_count": 18,
   "metadata": {},
   "outputs": [
    {
     "data": {
      "text/plain": [
       "node-> {'obj': {'v1': 123, 'nest1': {'v2': 4545}}, 'nid': '5b8ae5119dc1b228243c3a21'}"
      ]
     },
     "execution_count": 18,
     "metadata": {},
     "output_type": "execute_result"
    }
   ],
   "source": [
    "n2"
   ]
  },
  {
   "cell_type": "code",
   "execution_count": null,
   "metadata": {},
   "outputs": [],
   "source": []
  }
 ],
 "metadata": {
  "kernelspec": {
   "display_name": "Python 3",
   "language": "python",
   "name": "python3"
  },
  "language_info": {
   "codemirror_mode": {
    "name": "ipython",
    "version": 3
   },
   "file_extension": ".py",
   "mimetype": "text/x-python",
   "name": "python",
   "nbconvert_exporter": "python",
   "pygments_lexer": "ipython3",
   "version": "3.6.5"
  }
 },
 "nbformat": 4,
 "nbformat_minor": 2
}
