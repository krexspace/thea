{
 "cells": [
  {
   "cell_type": "code",
   "execution_count": 1,
   "metadata": {},
   "outputs": [],
   "source": [
    "import sys\n",
    "sys.path.append('../..')\n",
    "import os\n",
    "os.environ['thea_server'] = '192.168.1.199'"
   ]
  },
  {
   "cell_type": "code",
   "execution_count": 2,
   "metadata": {},
   "outputs": [],
   "source": [
    "import thea.core.juse as j"
   ]
  },
  {
   "cell_type": "code",
   "execution_count": 3,
   "metadata": {},
   "outputs": [
    {
     "name": "stdout",
     "output_type": "stream",
     "text": [
      "Connecting to Neo4j at bolt://192.168.1.199\n",
      "Connected to Neo4j\n",
      "Connecting to MongoDB at 192.168.1.199:27017\n",
      "Connected to MongoDB\n"
     ]
    }
   ],
   "source": [
    "import thea.core.kernel2 as k"
   ]
  },
  {
   "cell_type": "code",
   "execution_count": 4,
   "metadata": {},
   "outputs": [
    {
     "name": "stdout",
     "output_type": "stream",
     "text": [
      "In cmd_create_node: {'type': 'img', 'title': 'Mushrooms beautiful', 'src': 'http://s3.amazonaws.com/digitaltrends-uploads-prod/2016/04/mushroom.jpg'}\n"
     ]
    }
   ],
   "source": [
    "n = k.Node(type='img',title='Mushrooms beautiful',src='http://s3.amazonaws.com/digitaltrends-uploads-prod/2016/04/mushroom.jpg')"
   ]
  },
  {
   "cell_type": "code",
   "execution_count": 5,
   "metadata": {},
   "outputs": [
    {
     "data": {
      "text/plain": [
       "node-> {'type': 'img', 'title': 'Mushrooms beautiful', 'src': 'http://s3.amazonaws.com/digitaltrends-uploads-prod/2016/04/mushroom.jpg', 'nid': '5b8ae3739dc1b26cf44bc608'}"
      ]
     },
     "execution_count": 5,
     "metadata": {},
     "output_type": "execute_result"
    }
   ],
   "source": [
    "n"
   ]
  },
  {
   "cell_type": "code",
   "execution_count": 6,
   "metadata": {},
   "outputs": [
    {
     "data": {
      "text/html": [
       "<h1> Mushrooms beautiful </h1><img src=\"http://s3.amazonaws.com/digitaltrends-uploads-prod/2016/04/mushroom.jpg\">"
      ],
      "text/plain": [
       "<IPython.core.display.HTML object>"
      ]
     },
     "metadata": {},
     "output_type": "display_data"
    }
   ],
   "source": [
    "j.img(n)"
   ]
  },
  {
   "cell_type": "code",
   "execution_count": 7,
   "metadata": {},
   "outputs": [
    {
     "name": "stdout",
     "output_type": "stream",
     "text": [
      "In cmd_create_node: {'type': 'note', 'title': 'Great moves', 'body': 'This is one great move which will open up a whole new world'}\n"
     ]
    }
   ],
   "source": [
    "n = k.Node(type='note',title='Great moves',body='This is one great move which will open up a whole new world')"
   ]
  },
  {
   "cell_type": "code",
   "execution_count": 8,
   "metadata": {},
   "outputs": [
    {
     "data": {
      "text/html": [
       "<h1> Great moves </h1><p>This is one great move which will open up a whole new world</p>"
      ],
      "text/plain": [
       "<IPython.core.display.HTML object>"
      ]
     },
     "metadata": {},
     "output_type": "display_data"
    }
   ],
   "source": [
    "j.txt(n)"
   ]
  },
  {
   "cell_type": "code",
   "execution_count": 9,
   "metadata": {},
   "outputs": [
    {
     "name": "stdout",
     "output_type": "stream",
     "text": [
      "In cmd_create_node: {'type': 'lnk', 'title': 'Great moves', 'url': 'http://www.sciencedaily.com'}\n"
     ]
    }
   ],
   "source": [
    "n = k.Node(type='lnk',title='Great moves',url='http://www.sciencedaily.com')"
   ]
  },
  {
   "cell_type": "code",
   "execution_count": 10,
   "metadata": {},
   "outputs": [
    {
     "data": {
      "text/html": [
       "<p><a href=\"http://www.sciencedaily.com\">Great moves</p>"
      ],
      "text/plain": [
       "<IPython.core.display.HTML object>"
      ]
     },
     "metadata": {},
     "output_type": "display_data"
    }
   ],
   "source": [
    "j.lnk(n)"
   ]
  },
  {
   "cell_type": "code",
   "execution_count": 11,
   "metadata": {},
   "outputs": [
    {
     "name": "stdout",
     "output_type": "stream",
     "text": [
      "Graph object initialized\n"
     ]
    }
   ],
   "source": [
    "g = k.Graph()"
   ]
  },
  {
   "cell_type": "code",
   "execution_count": 12,
   "metadata": {},
   "outputs": [
    {
     "name": "stdout",
     "output_type": "stream",
     "text": [
      "In cmd_create_node: {'title': 'Purple room', 'type': 'rlm', 'body': 'This is an one of a kind realm'}\n"
     ]
    }
   ],
   "source": [
    "r = g.realm('Purple room', body='This is an one of a kind realm')"
   ]
  },
  {
   "cell_type": "code",
   "execution_count": 13,
   "metadata": {},
   "outputs": [
    {
     "data": {
      "text/plain": [
       "node-> {'title': 'Purple room', 'type': 'rlm', 'body': 'This is an one of a kind realm', 'nid': '5b8ae3739dc1b26cf44bc60b'}"
      ]
     },
     "execution_count": 13,
     "metadata": {},
     "output_type": "execute_result"
    }
   ],
   "source": [
    "r"
   ]
  },
  {
   "cell_type": "code",
   "execution_count": 14,
   "metadata": {},
   "outputs": [
    {
     "name": "stdout",
     "output_type": "stream",
     "text": [
      "In cmd_create_node: {'title': 'Green room', 'type': 'rlm'}\n"
     ]
    }
   ],
   "source": [
    "r = g.realm('Green room')"
   ]
  },
  {
   "cell_type": "code",
   "execution_count": 15,
   "metadata": {},
   "outputs": [
    {
     "data": {
      "text/plain": [
       "node-> {'title': 'Green room', 'type': 'rlm', 'nid': '5b8ae3739dc1b26cf44bc60c'}"
      ]
     },
     "execution_count": 15,
     "metadata": {},
     "output_type": "execute_result"
    }
   ],
   "source": [
    "r"
   ]
  },
  {
   "cell_type": "code",
   "execution_count": 16,
   "metadata": {},
   "outputs": [
    {
     "name": "stdout",
     "output_type": "stream",
     "text": [
      "In cmd_create_node: {'title': 'Rivers'}\n"
     ]
    }
   ],
   "source": [
    "r = g.node(title='Rivers')"
   ]
  },
  {
   "cell_type": "code",
   "execution_count": 17,
   "metadata": {},
   "outputs": [
    {
     "data": {
      "text/plain": [
       "node-> {'title': 'Rivers', 'nid': '5b8ae3739dc1b26cf44bc60d'}"
      ]
     },
     "execution_count": 17,
     "metadata": {},
     "output_type": "execute_result"
    }
   ],
   "source": [
    "r"
   ]
  },
  {
   "cell_type": "code",
   "execution_count": null,
   "metadata": {},
   "outputs": [],
   "source": []
  }
 ],
 "metadata": {
  "kernelspec": {
   "display_name": "Python 3",
   "language": "python",
   "name": "python3"
  },
  "language_info": {
   "codemirror_mode": {
    "name": "ipython",
    "version": 3
   },
   "file_extension": ".py",
   "mimetype": "text/x-python",
   "name": "python",
   "nbconvert_exporter": "python",
   "pygments_lexer": "ipython3",
   "version": "3.6.5"
  }
 },
 "nbformat": 4,
 "nbformat_minor": 2
}
