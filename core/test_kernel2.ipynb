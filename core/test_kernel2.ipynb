{
 "cells": [
  {
   "cell_type": "code",
   "execution_count": 1,
   "metadata": {},
   "outputs": [],
   "source": [
    "import kernel as k"
   ]
  },
  {
   "cell_type": "code",
   "execution_count": 2,
   "metadata": {},
   "outputs": [],
   "source": [
    "n = k.Node(title='Great',body='These are great days')"
   ]
  },
  {
   "cell_type": "code",
   "execution_count": 3,
   "metadata": {},
   "outputs": [
    {
     "data": {
      "text/plain": [
       "node-> {'title': 'Great', 'body': 'These are great days', 'type': 'thought', 'zone': 'std', '_id': ObjectId('5af7374818079822c885c73d'), 'nid': '5af7374818079822c885c73d'}"
      ]
     },
     "execution_count": 3,
     "metadata": {},
     "output_type": "execute_result"
    }
   ],
   "source": [
    "n"
   ]
  },
  {
   "cell_type": "code",
   "execution_count": 4,
   "metadata": {},
   "outputs": [
    {
     "data": {
      "text/plain": [
       "node-> {'title': 'Great', 'body': 'These are great days', 'type': 'thought', 'zone': 'std', '_id': ObjectId('5af7374818079822c885c73d'), 'nid': '5af7374818079822c885c73d', 'rating': 23}"
      ]
     },
     "execution_count": 4,
     "metadata": {},
     "output_type": "execute_result"
    }
   ],
   "source": [
    "n.set(rating=23)"
   ]
  },
  {
   "cell_type": "code",
   "execution_count": 5,
   "metadata": {},
   "outputs": [
    {
     "data": {
      "text/plain": [
       "{'title': 'Great',\n",
       " 'body': 'These are great days',\n",
       " 'type': 'thought',\n",
       " 'zone': 'std',\n",
       " '_id': ObjectId('5af7374818079822c885c73d'),\n",
       " 'nid': '5af7374818079822c885c73d',\n",
       " 'rating': 23}"
      ]
     },
     "execution_count": 5,
     "metadata": {},
     "output_type": "execute_result"
    }
   ],
   "source": [
    "n.dat"
   ]
  },
  {
   "cell_type": "code",
   "execution_count": null,
   "metadata": {},
   "outputs": [],
   "source": []
  },
  {
   "cell_type": "code",
   "execution_count": 6,
   "metadata": {},
   "outputs": [
    {
     "data": {
      "text/plain": [
       "node-> {'title': 'Great', 'body': 'These are great days', 'type': 'thought', 'zone': 'std', 'rating': 23, 'nid': '5af7374818079822c885c73d'}"
      ]
     },
     "execution_count": 6,
     "metadata": {},
     "output_type": "execute_result"
    }
   ],
   "source": [
    "n.ref()"
   ]
  },
  {
   "cell_type": "code",
   "execution_count": 7,
   "metadata": {},
   "outputs": [
    {
     "data": {
      "text/plain": [
       "{'title': 'Great',\n",
       " 'body': 'These are great days',\n",
       " 'type': 'thought',\n",
       " 'zone': 'std',\n",
       " 'rating': 23,\n",
       " 'nid': '5af7374818079822c885c73d'}"
      ]
     },
     "execution_count": 7,
     "metadata": {},
     "output_type": "execute_result"
    }
   ],
   "source": [
    "n.dat"
   ]
  },
  {
   "cell_type": "code",
   "execution_count": 8,
   "metadata": {},
   "outputs": [
    {
     "data": {
      "text/plain": [
       "node-> {'title': 'Great', 'body': 'These are great days', 'type': 'thought', 'zone': 'std', 'rating': 23, 'nid': '5af7374818079822c885c73d', 'kwds': ['cat', 'dog', 'stone']}"
      ]
     },
     "execution_count": 8,
     "metadata": {},
     "output_type": "execute_result"
    }
   ],
   "source": [
    "n.set(kwds=['cat','dog','stone'])"
   ]
  },
  {
   "cell_type": "code",
   "execution_count": 9,
   "metadata": {},
   "outputs": [
    {
     "data": {
      "text/plain": [
       "{'title': 'Great',\n",
       " 'body': 'These are great days',\n",
       " 'type': 'thought',\n",
       " 'zone': 'std',\n",
       " 'rating': 23,\n",
       " 'nid': '5af7374818079822c885c73d',\n",
       " 'kwds': ['cat', 'dog', 'stone']}"
      ]
     },
     "execution_count": 9,
     "metadata": {},
     "output_type": "execute_result"
    }
   ],
   "source": [
    "n.dat"
   ]
  },
  {
   "cell_type": "code",
   "execution_count": 10,
   "metadata": {},
   "outputs": [
    {
     "data": {
      "text/plain": [
       "{'title': 'Great',\n",
       " 'body': 'These are great days',\n",
       " 'type': 'thought',\n",
       " 'zone': 'std',\n",
       " 'rating': 23,\n",
       " 'kwds': ['cat', 'dog', 'stone'],\n",
       " 'nid': '5af7374818079822c885c73d'}"
      ]
     },
     "execution_count": 10,
     "metadata": {},
     "output_type": "execute_result"
    }
   ],
   "source": [
    "n.ref().dat"
   ]
  },
  {
   "cell_type": "code",
   "execution_count": 11,
   "metadata": {},
   "outputs": [
    {
     "data": {
      "text/plain": [
       "node-> {'title': 'Great', 'body': 'These are great days', 'type': 'thought', 'zone': 'std', 'rating': 23, 'kwds': ['cat', 'dog', 'stone'], 'markers': ['REALM', 'GROUP', 'IDEA'], 'nid': '5af7374818079822c885c73d'}"
      ]
     },
     "execution_count": 11,
     "metadata": {},
     "output_type": "execute_result"
    }
   ],
   "source": [
    "n.set(markers='REALM,GROUP,IDEA').ref()"
   ]
  },
  {
   "cell_type": "code",
   "execution_count": null,
   "metadata": {},
   "outputs": [],
   "source": []
  }
 ],
 "metadata": {
  "kernelspec": {
   "display_name": "Python 3",
   "language": "python",
   "name": "python3"
  },
  "language_info": {
   "codemirror_mode": {
    "name": "ipython",
    "version": 3
   },
   "file_extension": ".py",
   "mimetype": "text/x-python",
   "name": "python",
   "nbconvert_exporter": "python",
   "pygments_lexer": "ipython3",
   "version": "3.6.5"
  }
 },
 "nbformat": 4,
 "nbformat_minor": 2
}
