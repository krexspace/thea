{
 "cells": [
  {
   "cell_type": "code",
   "execution_count": 9,
   "metadata": {},
   "outputs": [],
   "source": [
    "import commands as cm"
   ]
  },
  {
   "cell_type": "code",
   "execution_count": null,
   "metadata": {},
   "outputs": [],
   "source": [
    "mresp = cm.cmd_create_node({'title':'Wonderful',\"desc\":\"World\",\"kwds\":'ideas,notes,dogs,cats'})"
   ]
  },
  {
   "cell_type": "code",
   "execution_count": null,
   "metadata": {},
   "outputs": [],
   "source": [
    "mresp"
   ]
  },
  {
   "cell_type": "code",
   "execution_count": null,
   "metadata": {},
   "outputs": [],
   "source": [
    "mresp = cm.cmd_update_node({'nid':mresp['val'],'title':'Amazing',\"desc\":\"World\"})"
   ]
  },
  {
   "cell_type": "code",
   "execution_count": null,
   "metadata": {},
   "outputs": [],
   "source": []
  },
  {
   "cell_type": "code",
   "execution_count": 11,
   "metadata": {},
   "outputs": [
    {
     "name": "stdout",
     "output_type": "stream",
     "text": [
      "In cmd_fetch_all: None\n"
     ]
    },
    {
     "data": {
      "text/plain": [
       "{'list': [{'title': 'Great',\n",
       "   'body': 'These are great days',\n",
       "   'type': 'thought',\n",
       "   'zone': 'std',\n",
       "   'nid': '5af7178018079832403d258a'},\n",
       "  {'title': 'Great',\n",
       "   'body': 'These are great days',\n",
       "   'type': 'thought',\n",
       "   'zone': 'std',\n",
       "   'nid': '5af717a51807982018e7ac21'}]}"
      ]
     },
     "execution_count": 11,
     "metadata": {},
     "output_type": "execute_result"
    }
   ],
   "source": [
    "cm.cmd_find_all()"
   ]
  },
  {
   "cell_type": "code",
   "execution_count": 12,
   "metadata": {},
   "outputs": [
    {
     "name": "stdout",
     "output_type": "stream",
     "text": [
      "In cmd_delete_all: None\n"
     ]
    },
    {
     "data": {
      "text/plain": [
       "{'val': 'SUCCESS'}"
      ]
     },
     "execution_count": 12,
     "metadata": {},
     "output_type": "execute_result"
    }
   ],
   "source": [
    "cm.cmd_delete_all(None)"
   ]
  },
  {
   "cell_type": "code",
   "execution_count": null,
   "metadata": {},
   "outputs": [],
   "source": [
    "cm.cmd_find_by({'kwds':'crazy,cats'})"
   ]
  },
  {
   "cell_type": "code",
   "execution_count": null,
   "metadata": {},
   "outputs": [],
   "source": [
    "cm.cmd_delete_node({'nid':'5af6a0d81807981fd4bf0eaf'})"
   ]
  },
  {
   "cell_type": "markdown",
   "metadata": {},
   "source": [
    "cm.cmd_create_conn({'src':'5af6a4fc1807985088998435','dest':'5af6a4ff1807985088998436'})"
   ]
  },
  {
   "cell_type": "code",
   "execution_count": 5,
   "metadata": {},
   "outputs": [
    {
     "name": "stdout",
     "output_type": "stream",
     "text": [
      "{'strength': 23, 'type': 'like'}\n"
     ]
    },
    {
     "data": {
      "text/plain": [
       "{'val': {'strength': 23, 'type': 'like'}}"
      ]
     },
     "execution_count": 5,
     "metadata": {},
     "output_type": "execute_result"
    }
   ],
   "source": [
    "cm.cmd_create_conn({'src':'5af6a4fc1807985088998435','dest':'5af6a4ff1807985088998436','st':23,'type':'like'})"
   ]
  },
  {
   "cell_type": "code",
   "execution_count": 8,
   "metadata": {},
   "outputs": [
    {
     "data": {
      "text/plain": [
       "{'val': [{'strength': 23, 'type': 'STD', 'id': 100}]}"
      ]
     },
     "execution_count": 8,
     "metadata": {},
     "output_type": "execute_result"
    }
   ],
   "source": [
    "cm.cmd_find_conns({'src':'5af6a4fc1807985088998435','dest':'5af6a4ff1807985088998436'})"
   ]
  },
  {
   "cell_type": "code",
   "execution_count": null,
   "metadata": {},
   "outputs": [],
   "source": [
    "cm.cmd_delete_conn({'cid':40})"
   ]
  },
  {
   "cell_type": "code",
   "execution_count": 7,
   "metadata": {},
   "outputs": [
    {
     "name": "stdout",
     "output_type": "stream",
     "text": [
      "MATCH (a:PNODE)-[r:NCONN]-(b:PNODE) WHERE a.nid = {nid1} AND b.nid = {nid2} AND r.type = {type} DELETE r\n"
     ]
    },
    {
     "data": {
      "text/plain": [
       "{'val': None}"
      ]
     },
     "execution_count": 7,
     "metadata": {},
     "output_type": "execute_result"
    }
   ],
   "source": [
    "cm.cmd_delete_conn({'src':'5af6a4fc1807985088998435','dest':'5af6a4ff1807985088998436','type':'like'})"
   ]
  },
  {
   "cell_type": "code",
   "execution_count": null,
   "metadata": {},
   "outputs": [],
   "source": []
  }
 ],
 "metadata": {
  "kernelspec": {
   "display_name": "Python 3",
   "language": "python",
   "name": "python3"
  },
  "language_info": {
   "codemirror_mode": {
    "name": "ipython",
    "version": 3
   },
   "file_extension": ".py",
   "mimetype": "text/x-python",
   "name": "python",
   "nbconvert_exporter": "python",
   "pygments_lexer": "ipython3",
   "version": "3.6.5"
  }
 },
 "nbformat": 4,
 "nbformat_minor": 2
}
